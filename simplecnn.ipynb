{
  "nbformat": 4,
  "nbformat_minor": 0,
  "metadata": {
    "colab": {
      "provenance": []
    },
    "kernelspec": {
      "name": "python3",
      "display_name": "Python 3"
    },
    "language_info": {
      "name": "python"
    },
    "gpuClass": "standard",
    "accelerator": "GPU"
  },
  "cells": [
    {
      "cell_type": "code",
      "execution_count": null,
      "metadata": {
        "id": "A2TmitpMdJrO"
      },
      "outputs": [],
      "source": [
        "import pandas as pd\n",
        "import numpy as np"
      ]
    },
    {
      "cell_type": "code",
      "source": [
        "d1 = pd.read_csv(\"/content/flabel12.csv\")\n",
        "d2 = pd.read_csv(\"/content/dataairport1.csv\")\n",
        "d3 = pd.read_csv(\"/content/datachruch1.csv\")\n",
        "d4 = pd.read_csv(\"/content/datahospital1.csv\")\n",
        "d5 = pd.read_csv(\"/content/datarestaurant.csv\")\n",
        "d6 = pd.read_csv(\"/content/datazoo1.csv\")"
      ],
      "metadata": {
        "id": "GMkliZtwqB8v"
      },
      "execution_count": null,
      "outputs": []
    },
    {
      "cell_type": "code",
      "source": [
        "data = pd.concat([d1,d3,d4,d5,d6])\n",
        "data.shape"
      ],
      "metadata": {
        "id": "Q4I1gdOvdNEH",
        "colab": {
          "base_uri": "https://localhost:8080/"
        },
        "outputId": "77800eee-2713-4af4-e721-20c49b325875"
      },
      "execution_count": null,
      "outputs": [
        {
          "output_type": "execute_result",
          "data": {
            "text/plain": [
              "(131625, 5)"
            ]
          },
          "metadata": {},
          "execution_count": 3
        }
      ]
    },
    {
      "cell_type": "code",
      "source": [
        "data.drop_duplicates(subset=['Tweet'], inplace = True)\n",
        "print(\"No of Unique tweets: \", data['Tweet'].count())"
      ],
      "metadata": {
        "id": "bvGyZi7adWMn",
        "colab": {
          "base_uri": "https://localhost:8080/"
        },
        "outputId": "77d3c5a7-ab6d-405f-8dfa-67c9ec4c4641"
      },
      "execution_count": null,
      "outputs": [
        {
          "output_type": "stream",
          "name": "stdout",
          "text": [
            "No of Unique tweets:  129715\n"
          ]
        }
      ]
    },
    {
      "cell_type": "code",
      "source": [
        "# import matplotlib.pyplot as plt\n",
        "# import seaborn as sns\n",
        "# plt.figure(figsize=(6,4))\n",
        "# sns.countplot(data['Label'])\n",
        "# plt.title(\"The distribution of Tweets\")"
      ],
      "metadata": {
        "id": "15PyBBuN0nfL"
      },
      "execution_count": null,
      "outputs": []
    },
    {
      "cell_type": "code",
      "source": [
        "data.sample(5)"
      ],
      "metadata": {
        "colab": {
          "base_uri": "https://localhost:8080/",
          "height": 206
        },
        "id": "QxkBAouj0wCy",
        "outputId": "1e1fd7d3-f102-4697-eca4-cd74bfe87739"
      },
      "execution_count": null,
      "outputs": [
        {
          "output_type": "execute_result",
          "data": {
            "text/plain": [
              "                            Time      Username  \\\n",
              "74936  2022-08-23 17:51:00+00:00     KWSchilke   \n",
              "4622   2023-02-06 08:30:00+00:00   feedmileapp   \n",
              "86191  2019-09-10 01:14:07+00:00   dave_norris   \n",
              "5461   2023-02-08 18:00:07+00:00   247Catholic   \n",
              "44010  2016-09-11 18:00:47+00:00  WilderWrites   \n",
              "\n",
              "                                                   Tweet  Label Public_Place  \n",
              "74936  @TorontoPearson you’ve become what @fly2ohare ...      0      Airport  \n",
              "4622   Street dogs in Bengaluru, put through birth co...      4          zoo  \n",
              "86191  Headed home. So good to see you @nsbulk @Murra...      0      Airport  \n",
              "5461   Let us take a break now and pray the Hail Mary...      3       chruch  \n",
              "44010  The 9/11 memorial is striking, takes you to th...      3       chruch  "
            ],
            "text/html": [
              "\n",
              "  <div id=\"df-c5c9edca-944d-4f4e-9da3-355aaca6617b\">\n",
              "    <div class=\"colab-df-container\">\n",
              "      <div>\n",
              "<style scoped>\n",
              "    .dataframe tbody tr th:only-of-type {\n",
              "        vertical-align: middle;\n",
              "    }\n",
              "\n",
              "    .dataframe tbody tr th {\n",
              "        vertical-align: top;\n",
              "    }\n",
              "\n",
              "    .dataframe thead th {\n",
              "        text-align: right;\n",
              "    }\n",
              "</style>\n",
              "<table border=\"1\" class=\"dataframe\">\n",
              "  <thead>\n",
              "    <tr style=\"text-align: right;\">\n",
              "      <th></th>\n",
              "      <th>Time</th>\n",
              "      <th>Username</th>\n",
              "      <th>Tweet</th>\n",
              "      <th>Label</th>\n",
              "      <th>Public_Place</th>\n",
              "    </tr>\n",
              "  </thead>\n",
              "  <tbody>\n",
              "    <tr>\n",
              "      <th>74936</th>\n",
              "      <td>2022-08-23 17:51:00+00:00</td>\n",
              "      <td>KWSchilke</td>\n",
              "      <td>@TorontoPearson you’ve become what @fly2ohare ...</td>\n",
              "      <td>0</td>\n",
              "      <td>Airport</td>\n",
              "    </tr>\n",
              "    <tr>\n",
              "      <th>4622</th>\n",
              "      <td>2023-02-06 08:30:00+00:00</td>\n",
              "      <td>feedmileapp</td>\n",
              "      <td>Street dogs in Bengaluru, put through birth co...</td>\n",
              "      <td>4</td>\n",
              "      <td>zoo</td>\n",
              "    </tr>\n",
              "    <tr>\n",
              "      <th>86191</th>\n",
              "      <td>2019-09-10 01:14:07+00:00</td>\n",
              "      <td>dave_norris</td>\n",
              "      <td>Headed home. So good to see you @nsbulk @Murra...</td>\n",
              "      <td>0</td>\n",
              "      <td>Airport</td>\n",
              "    </tr>\n",
              "    <tr>\n",
              "      <th>5461</th>\n",
              "      <td>2023-02-08 18:00:07+00:00</td>\n",
              "      <td>247Catholic</td>\n",
              "      <td>Let us take a break now and pray the Hail Mary...</td>\n",
              "      <td>3</td>\n",
              "      <td>chruch</td>\n",
              "    </tr>\n",
              "    <tr>\n",
              "      <th>44010</th>\n",
              "      <td>2016-09-11 18:00:47+00:00</td>\n",
              "      <td>WilderWrites</td>\n",
              "      <td>The 9/11 memorial is striking, takes you to th...</td>\n",
              "      <td>3</td>\n",
              "      <td>chruch</td>\n",
              "    </tr>\n",
              "  </tbody>\n",
              "</table>\n",
              "</div>\n",
              "      <button class=\"colab-df-convert\" onclick=\"convertToInteractive('df-c5c9edca-944d-4f4e-9da3-355aaca6617b')\"\n",
              "              title=\"Convert this dataframe to an interactive table.\"\n",
              "              style=\"display:none;\">\n",
              "        \n",
              "  <svg xmlns=\"http://www.w3.org/2000/svg\" height=\"24px\"viewBox=\"0 0 24 24\"\n",
              "       width=\"24px\">\n",
              "    <path d=\"M0 0h24v24H0V0z\" fill=\"none\"/>\n",
              "    <path d=\"M18.56 5.44l.94 2.06.94-2.06 2.06-.94-2.06-.94-.94-2.06-.94 2.06-2.06.94zm-11 1L8.5 8.5l.94-2.06 2.06-.94-2.06-.94L8.5 2.5l-.94 2.06-2.06.94zm10 10l.94 2.06.94-2.06 2.06-.94-2.06-.94-.94-2.06-.94 2.06-2.06.94z\"/><path d=\"M17.41 7.96l-1.37-1.37c-.4-.4-.92-.59-1.43-.59-.52 0-1.04.2-1.43.59L10.3 9.45l-7.72 7.72c-.78.78-.78 2.05 0 2.83L4 21.41c.39.39.9.59 1.41.59.51 0 1.02-.2 1.41-.59l7.78-7.78 2.81-2.81c.8-.78.8-2.07 0-2.86zM5.41 20L4 18.59l7.72-7.72 1.47 1.35L5.41 20z\"/>\n",
              "  </svg>\n",
              "      </button>\n",
              "      \n",
              "  <style>\n",
              "    .colab-df-container {\n",
              "      display:flex;\n",
              "      flex-wrap:wrap;\n",
              "      gap: 12px;\n",
              "    }\n",
              "\n",
              "    .colab-df-convert {\n",
              "      background-color: #E8F0FE;\n",
              "      border: none;\n",
              "      border-radius: 50%;\n",
              "      cursor: pointer;\n",
              "      display: none;\n",
              "      fill: #1967D2;\n",
              "      height: 32px;\n",
              "      padding: 0 0 0 0;\n",
              "      width: 32px;\n",
              "    }\n",
              "\n",
              "    .colab-df-convert:hover {\n",
              "      background-color: #E2EBFA;\n",
              "      box-shadow: 0px 1px 2px rgba(60, 64, 67, 0.3), 0px 1px 3px 1px rgba(60, 64, 67, 0.15);\n",
              "      fill: #174EA6;\n",
              "    }\n",
              "\n",
              "    [theme=dark] .colab-df-convert {\n",
              "      background-color: #3B4455;\n",
              "      fill: #D2E3FC;\n",
              "    }\n",
              "\n",
              "    [theme=dark] .colab-df-convert:hover {\n",
              "      background-color: #434B5C;\n",
              "      box-shadow: 0px 1px 3px 1px rgba(0, 0, 0, 0.15);\n",
              "      filter: drop-shadow(0px 1px 2px rgba(0, 0, 0, 0.3));\n",
              "      fill: #FFFFFF;\n",
              "    }\n",
              "  </style>\n",
              "\n",
              "      <script>\n",
              "        const buttonEl =\n",
              "          document.querySelector('#df-c5c9edca-944d-4f4e-9da3-355aaca6617b button.colab-df-convert');\n",
              "        buttonEl.style.display =\n",
              "          google.colab.kernel.accessAllowed ? 'block' : 'none';\n",
              "\n",
              "        async function convertToInteractive(key) {\n",
              "          const element = document.querySelector('#df-c5c9edca-944d-4f4e-9da3-355aaca6617b');\n",
              "          const dataTable =\n",
              "            await google.colab.kernel.invokeFunction('convertToInteractive',\n",
              "                                                     [key], {});\n",
              "          if (!dataTable) return;\n",
              "\n",
              "          const docLinkHtml = 'Like what you see? Visit the ' +\n",
              "            '<a target=\"_blank\" href=https://colab.research.google.com/notebooks/data_table.ipynb>data table notebook</a>'\n",
              "            + ' to learn more about interactive tables.';\n",
              "          element.innerHTML = '';\n",
              "          dataTable['output_type'] = 'display_data';\n",
              "          await google.colab.output.renderOutput(dataTable, element);\n",
              "          const docLink = document.createElement('div');\n",
              "          docLink.innerHTML = docLinkHtml;\n",
              "          element.appendChild(docLink);\n",
              "        }\n",
              "      </script>\n",
              "    </div>\n",
              "  </div>\n",
              "  "
            ]
          },
          "metadata": {},
          "execution_count": 6
        }
      ]
    },
    {
      "cell_type": "code",
      "source": [
        "import nltk\n",
        "import re, string\n",
        "from nltk.corpus import stopwords\n",
        "nltk.download('stopwords')\n",
        "stopword = stopwords.words('english')\n",
        "print(\"Stopwords:\",stopword)"
      ],
      "metadata": {
        "id": "UHhf4rOHdYrv",
        "colab": {
          "base_uri": "https://localhost:8080/"
        },
        "outputId": "e2ae7795-e447-4b13-80e1-baee3d108e7a"
      },
      "execution_count": null,
      "outputs": [
        {
          "output_type": "stream",
          "name": "stdout",
          "text": [
            "Stopwords: ['i', 'me', 'my', 'myself', 'we', 'our', 'ours', 'ourselves', 'you', \"you're\", \"you've\", \"you'll\", \"you'd\", 'your', 'yours', 'yourself', 'yourselves', 'he', 'him', 'his', 'himself', 'she', \"she's\", 'her', 'hers', 'herself', 'it', \"it's\", 'its', 'itself', 'they', 'them', 'their', 'theirs', 'themselves', 'what', 'which', 'who', 'whom', 'this', 'that', \"that'll\", 'these', 'those', 'am', 'is', 'are', 'was', 'were', 'be', 'been', 'being', 'have', 'has', 'had', 'having', 'do', 'does', 'did', 'doing', 'a', 'an', 'the', 'and', 'but', 'if', 'or', 'because', 'as', 'until', 'while', 'of', 'at', 'by', 'for', 'with', 'about', 'against', 'between', 'into', 'through', 'during', 'before', 'after', 'above', 'below', 'to', 'from', 'up', 'down', 'in', 'out', 'on', 'off', 'over', 'under', 'again', 'further', 'then', 'once', 'here', 'there', 'when', 'where', 'why', 'how', 'all', 'any', 'both', 'each', 'few', 'more', 'most', 'other', 'some', 'such', 'no', 'nor', 'not', 'only', 'own', 'same', 'so', 'than', 'too', 'very', 's', 't', 'can', 'will', 'just', 'don', \"don't\", 'should', \"should've\", 'now', 'd', 'll', 'm', 'o', 're', 've', 'y', 'ain', 'aren', \"aren't\", 'couldn', \"couldn't\", 'didn', \"didn't\", 'doesn', \"doesn't\", 'hadn', \"hadn't\", 'hasn', \"hasn't\", 'haven', \"haven't\", 'isn', \"isn't\", 'ma', 'mightn', \"mightn't\", 'mustn', \"mustn't\", 'needn', \"needn't\", 'shan', \"shan't\", 'shouldn', \"shouldn't\", 'wasn', \"wasn't\", 'weren', \"weren't\", 'won', \"won't\", 'wouldn', \"wouldn't\"]\n"
          ]
        },
        {
          "output_type": "stream",
          "name": "stderr",
          "text": [
            "[nltk_data] Downloading package stopwords to /root/nltk_data...\n",
            "[nltk_data]   Unzipping corpora/stopwords.zip.\n"
          ]
        }
      ]
    },
    {
      "cell_type": "code",
      "source": [
        "def clean(text):\n",
        "    text = text.lower() # lower case\n",
        "    text = re.sub(r'https?://\\S+|www\\.\\S+', \" \", text)#URL\n",
        "    text = re.sub(r'@\\w+',' ',text) # mentions\n",
        "    text = re.sub(r'#\\w+', ' ', text) #hashtags\n",
        "    text= re.sub(r'[^\\w\\s]',' ',text) #punctuations\n",
        "    text= re.sub(r'\\d+', ' ', text) #digits\n",
        "    text = re.sub('\\[.*?\\]',' ', text) #any punctuations left\n",
        "    text = re.sub(\"[^a-z0-9]\",\" \", text)# any others charcters other than numbers and letters\n",
        "    text = text.split() #stopwords\n",
        "    text = \" \".join([word for word in text if not word in stopword])\n",
        "    return text"
      ],
      "metadata": {
        "id": "n8bbZyEHdd8Q"
      },
      "execution_count": null,
      "outputs": []
    },
    {
      "cell_type": "code",
      "source": [
        "data['Tweet'] = data['Tweet'].astype(str).apply(lambda x: clean(x))\n",
        "data['Public_Place'] = data['Public_Place'].astype(str).apply(lambda x: x.lower())\n",
        "data['Tweet'].sample(5)"
      ],
      "metadata": {
        "id": "Z6rJS82ldhXY",
        "colab": {
          "base_uri": "https://localhost:8080/"
        },
        "outputId": "c1f08174-506b-4993-8834-4704aba62889"
      },
      "execution_count": null,
      "outputs": [
        {
          "output_type": "execute_result",
          "data": {
            "text/plain": [
              "12702                                          chandler az\n",
              "40005    special word thanks amp heartfelt appreciation...\n",
              "7624     away course day process making new york style ...\n",
              "25436              really want food app troubles send help\n",
              "40988    first aid call help check breathing amp pulse ...\n",
              "Name: Tweet, dtype: object"
            ]
          },
          "metadata": {},
          "execution_count": 9
        }
      ]
    },
    {
      "cell_type": "code",
      "source": [
        "max_len = len(max(data['Tweet'], key=len))\n",
        "print(\"Maximum length of Tweet:\",max_len)"
      ],
      "metadata": {
        "id": "993d9zHUdk24",
        "colab": {
          "base_uri": "https://localhost:8080/"
        },
        "outputId": "faadeaf6-5bf4-47f3-de09-429b83284fd3"
      },
      "execution_count": null,
      "outputs": [
        {
          "output_type": "stream",
          "name": "stdout",
          "text": [
            "Maximum length of Tweet: 276\n"
          ]
        }
      ]
    },
    {
      "cell_type": "code",
      "source": [
        "import nltk\n",
        "nltk.download('omw-1.4')\n",
        "nltk.download('wordnet')\n",
        "from nltk.stem import WordNetLemmatizer\n",
        "from nltk.tokenize import word_tokenize"
      ],
      "metadata": {
        "id": "rz5nkFLNdoFh",
        "colab": {
          "base_uri": "https://localhost:8080/"
        },
        "outputId": "ca256ba6-d3cb-4f43-a438-467ffae4d083"
      },
      "execution_count": null,
      "outputs": [
        {
          "output_type": "stream",
          "name": "stderr",
          "text": [
            "[nltk_data] Downloading package omw-1.4 to /root/nltk_data...\n",
            "[nltk_data] Downloading package wordnet to /root/nltk_data...\n"
          ]
        }
      ]
    },
    {
      "cell_type": "code",
      "source": [
        "tokenizer = nltk.tokenize.WhitespaceTokenizer()\n",
        "lemmatizer = WordNetLemmatizer()\n",
        "def lemmatize_tweets(tweets):\n",
        "    temp = \"\"\n",
        "    for w in tokenizer.tokenize(tweets):\n",
        "      temp = temp + lemmatizer.lemmatize(w) +\" \" \n",
        "    return temp\n",
        "data['Tweet'] = data['Tweet'].apply(lambda x: lemmatize_tweets(x))"
      ],
      "metadata": {
        "id": "cd2ZTNvmdswg"
      },
      "execution_count": null,
      "outputs": []
    },
    {
      "cell_type": "code",
      "source": [
        "from nltk.stem.porter import PorterStemmer\n",
        "stemmer= PorterStemmer()\n",
        "\n",
        "def stem_tweets(tweets):\n",
        "    temp = \"\"\n",
        "    for w in tokenizer.tokenize(tweets):\n",
        "      temp = temp + stemmer.stem(w) +\" \" \n",
        "    return temp\n",
        "data['Tweet'] = data['Tweet'].apply(lambda x: stem_tweets(x))"
      ],
      "metadata": {
        "id": "vOhxe2X9dvLo"
      },
      "execution_count": null,
      "outputs": []
    },
    {
      "cell_type": "code",
      "source": [
        "x = data['Tweet']\n",
        "# y = data['Public_Place']\n",
        "y = data['Label']"
      ],
      "metadata": {
        "id": "O46PeVRod2Us"
      },
      "execution_count": null,
      "outputs": []
    },
    {
      "cell_type": "code",
      "source": [
        "!pip install tensorflow"
      ],
      "metadata": {
        "colab": {
          "base_uri": "https://localhost:8080/"
        },
        "id": "PLalvWKeeAMI",
        "outputId": "794431c6-8290-4f13-fc34-8ee1b15f8627"
      },
      "execution_count": null,
      "outputs": [
        {
          "output_type": "stream",
          "name": "stdout",
          "text": [
            "Looking in indexes: https://pypi.org/simple, https://us-python.pkg.dev/colab-wheels/public/simple/\n",
            "Requirement already satisfied: tensorflow in /usr/local/lib/python3.9/dist-packages (2.12.0)\n",
            "Requirement already satisfied: libclang>=13.0.0 in /usr/local/lib/python3.9/dist-packages (from tensorflow) (16.0.0)\n",
            "Requirement already satisfied: tensorflow-estimator<2.13,>=2.12.0 in /usr/local/lib/python3.9/dist-packages (from tensorflow) (2.12.0)\n",
            "Requirement already satisfied: typing-extensions>=3.6.6 in /usr/local/lib/python3.9/dist-packages (from tensorflow) (4.5.0)\n",
            "Requirement already satisfied: packaging in /usr/local/lib/python3.9/dist-packages (from tensorflow) (23.0)\n",
            "Requirement already satisfied: google-pasta>=0.1.1 in /usr/local/lib/python3.9/dist-packages (from tensorflow) (0.2.0)\n",
            "Requirement already satisfied: tensorboard<2.13,>=2.12 in /usr/local/lib/python3.9/dist-packages (from tensorflow) (2.12.0)\n",
            "Requirement already satisfied: wrapt<1.15,>=1.11.0 in /usr/local/lib/python3.9/dist-packages (from tensorflow) (1.14.1)\n",
            "Requirement already satisfied: six>=1.12.0 in /usr/local/lib/python3.9/dist-packages (from tensorflow) (1.16.0)\n",
            "Requirement already satisfied: absl-py>=1.0.0 in /usr/local/lib/python3.9/dist-packages (from tensorflow) (1.4.0)\n",
            "Requirement already satisfied: keras<2.13,>=2.12.0 in /usr/local/lib/python3.9/dist-packages (from tensorflow) (2.12.0)\n",
            "Requirement already satisfied: opt-einsum>=2.3.2 in /usr/local/lib/python3.9/dist-packages (from tensorflow) (3.3.0)\n",
            "Requirement already satisfied: setuptools in /usr/local/lib/python3.9/dist-packages (from tensorflow) (67.6.1)\n",
            "Requirement already satisfied: grpcio<2.0,>=1.24.3 in /usr/local/lib/python3.9/dist-packages (from tensorflow) (1.53.0)\n",
            "Requirement already satisfied: flatbuffers>=2.0 in /usr/local/lib/python3.9/dist-packages (from tensorflow) (23.3.3)\n",
            "Requirement already satisfied: tensorflow-io-gcs-filesystem>=0.23.1 in /usr/local/lib/python3.9/dist-packages (from tensorflow) (0.32.0)\n",
            "Requirement already satisfied: h5py>=2.9.0 in /usr/local/lib/python3.9/dist-packages (from tensorflow) (3.8.0)\n",
            "Requirement already satisfied: protobuf!=4.21.0,!=4.21.1,!=4.21.2,!=4.21.3,!=4.21.4,!=4.21.5,<5.0.0dev,>=3.20.3 in /usr/local/lib/python3.9/dist-packages (from tensorflow) (3.20.3)\n",
            "Requirement already satisfied: jax>=0.3.15 in /usr/local/lib/python3.9/dist-packages (from tensorflow) (0.4.7)\n",
            "Requirement already satisfied: gast<=0.4.0,>=0.2.1 in /usr/local/lib/python3.9/dist-packages (from tensorflow) (0.4.0)\n",
            "Requirement already satisfied: astunparse>=1.6.0 in /usr/local/lib/python3.9/dist-packages (from tensorflow) (1.6.3)\n",
            "Requirement already satisfied: termcolor>=1.1.0 in /usr/local/lib/python3.9/dist-packages (from tensorflow) (2.2.0)\n",
            "Requirement already satisfied: numpy<1.24,>=1.22 in /usr/local/lib/python3.9/dist-packages (from tensorflow) (1.22.4)\n",
            "Requirement already satisfied: wheel<1.0,>=0.23.0 in /usr/local/lib/python3.9/dist-packages (from astunparse>=1.6.0->tensorflow) (0.40.0)\n",
            "Requirement already satisfied: ml-dtypes>=0.0.3 in /usr/local/lib/python3.9/dist-packages (from jax>=0.3.15->tensorflow) (0.0.4)\n",
            "Requirement already satisfied: scipy>=1.7 in /usr/local/lib/python3.9/dist-packages (from jax>=0.3.15->tensorflow) (1.10.1)\n",
            "Requirement already satisfied: markdown>=2.6.8 in /usr/local/lib/python3.9/dist-packages (from tensorboard<2.13,>=2.12->tensorflow) (3.4.3)\n",
            "Requirement already satisfied: google-auth-oauthlib<0.5,>=0.4.1 in /usr/local/lib/python3.9/dist-packages (from tensorboard<2.13,>=2.12->tensorflow) (0.4.6)\n",
            "Requirement already satisfied: google-auth<3,>=1.6.3 in /usr/local/lib/python3.9/dist-packages (from tensorboard<2.13,>=2.12->tensorflow) (2.17.0)\n",
            "Requirement already satisfied: werkzeug>=1.0.1 in /usr/local/lib/python3.9/dist-packages (from tensorboard<2.13,>=2.12->tensorflow) (2.2.3)\n",
            "Requirement already satisfied: tensorboard-plugin-wit>=1.6.0 in /usr/local/lib/python3.9/dist-packages (from tensorboard<2.13,>=2.12->tensorflow) (1.8.1)\n",
            "Requirement already satisfied: tensorboard-data-server<0.8.0,>=0.7.0 in /usr/local/lib/python3.9/dist-packages (from tensorboard<2.13,>=2.12->tensorflow) (0.7.0)\n",
            "Requirement already satisfied: requests<3,>=2.21.0 in /usr/local/lib/python3.9/dist-packages (from tensorboard<2.13,>=2.12->tensorflow) (2.27.1)\n",
            "Requirement already satisfied: pyasn1-modules>=0.2.1 in /usr/local/lib/python3.9/dist-packages (from google-auth<3,>=1.6.3->tensorboard<2.13,>=2.12->tensorflow) (0.2.8)\n",
            "Requirement already satisfied: rsa<5,>=3.1.4 in /usr/local/lib/python3.9/dist-packages (from google-auth<3,>=1.6.3->tensorboard<2.13,>=2.12->tensorflow) (4.9)\n",
            "Requirement already satisfied: cachetools<6.0,>=2.0.0 in /usr/local/lib/python3.9/dist-packages (from google-auth<3,>=1.6.3->tensorboard<2.13,>=2.12->tensorflow) (5.3.0)\n",
            "Requirement already satisfied: requests-oauthlib>=0.7.0 in /usr/local/lib/python3.9/dist-packages (from google-auth-oauthlib<0.5,>=0.4.1->tensorboard<2.13,>=2.12->tensorflow) (1.3.1)\n",
            "Requirement already satisfied: importlib-metadata>=4.4 in /usr/local/lib/python3.9/dist-packages (from markdown>=2.6.8->tensorboard<2.13,>=2.12->tensorflow) (6.1.0)\n",
            "Requirement already satisfied: urllib3<1.27,>=1.21.1 in /usr/local/lib/python3.9/dist-packages (from requests<3,>=2.21.0->tensorboard<2.13,>=2.12->tensorflow) (1.26.15)\n",
            "Requirement already satisfied: charset-normalizer~=2.0.0 in /usr/local/lib/python3.9/dist-packages (from requests<3,>=2.21.0->tensorboard<2.13,>=2.12->tensorflow) (2.0.12)\n",
            "Requirement already satisfied: certifi>=2017.4.17 in /usr/local/lib/python3.9/dist-packages (from requests<3,>=2.21.0->tensorboard<2.13,>=2.12->tensorflow) (2022.12.7)\n",
            "Requirement already satisfied: idna<4,>=2.5 in /usr/local/lib/python3.9/dist-packages (from requests<3,>=2.21.0->tensorboard<2.13,>=2.12->tensorflow) (3.4)\n",
            "Requirement already satisfied: MarkupSafe>=2.1.1 in /usr/local/lib/python3.9/dist-packages (from werkzeug>=1.0.1->tensorboard<2.13,>=2.12->tensorflow) (2.1.2)\n",
            "Requirement already satisfied: zipp>=0.5 in /usr/local/lib/python3.9/dist-packages (from importlib-metadata>=4.4->markdown>=2.6.8->tensorboard<2.13,>=2.12->tensorflow) (3.15.0)\n",
            "Requirement already satisfied: pyasn1<0.5.0,>=0.4.6 in /usr/local/lib/python3.9/dist-packages (from pyasn1-modules>=0.2.1->google-auth<3,>=1.6.3->tensorboard<2.13,>=2.12->tensorflow) (0.4.8)\n",
            "Requirement already satisfied: oauthlib>=3.0.0 in /usr/local/lib/python3.9/dist-packages (from requests-oauthlib>=0.7.0->google-auth-oauthlib<0.5,>=0.4.1->tensorboard<2.13,>=2.12->tensorflow) (3.2.2)\n"
          ]
        }
      ]
    },
    {
      "cell_type": "code",
      "source": [
        "from tensorflow.keras.preprocessing.text import Tokenizer\n",
        "from tensorflow.keras.preprocessing.sequence import pad_sequences\n",
        "from gensim.models import word2vec\n",
        "from keras.models import Sequential,Model\n",
        "from keras.layers import Dense,MaxPooling1D, AveragePooling1D, GlobalMaxPooling1D,GlobalAveragePooling1D,Concatenate,Input\n",
        "from keras.layers import Embedding, LSTM, Flatten, Dropout, Conv1D\n",
        "from tensorflow.keras.callbacks import EarlyStopping\n",
        "from tensorflow.keras.optimizers import SGD, Adam,Adadelta\n",
        "from tensorflow.keras.losses import CategoricalCrossentropy\n",
        "from tensorflow.keras import regularizers\n",
        "from sklearn.metrics import f1_score\n",
        "import tensorflow as tf\n",
        "from keras.utils import plot_model"
      ],
      "metadata": {
        "id": "Bpffxr-weH5V"
      },
      "execution_count": null,
      "outputs": []
    },
    {
      "cell_type": "code",
      "source": [
        "tokenizer = Tokenizer()\n",
        "tokenizer.fit_on_texts(x)\n",
        "vocab_length = len(tokenizer.word_index)+1\n",
        "print(\"Length of Word Index:\",vocab_length)\n",
        "X = tokenizer.texts_to_sequences(x)\n",
        "#encoded_sequence = [one_hot(s, vocab_length) for s in x ]\n",
        "#print(encoded_sequence )\n",
        "X = pad_sequences(X,maxlen = max_len, padding='post')"
      ],
      "metadata": {
        "colab": {
          "base_uri": "https://localhost:8080/"
        },
        "id": "LcbB2DYweNkT",
        "outputId": "a564cf6d-6f50-48ff-9d8c-850ce5681340"
      },
      "execution_count": null,
      "outputs": [
        {
          "output_type": "stream",
          "name": "stdout",
          "text": [
            "Length of Word Index: 37620\n"
          ]
        }
      ]
    },
    {
      "cell_type": "code",
      "source": [
        "from tensorflow.keras.utils import to_categorical\n",
        "y = to_categorical(y)"
      ],
      "metadata": {
        "id": "K0OXF3EceUIO"
      },
      "execution_count": null,
      "outputs": []
    },
    {
      "cell_type": "code",
      "source": [
        "num_features = 300  # Word vector dimensionality                      \n",
        "min_word_count = 5   # Minimum word count                        \n",
        "num_workers = 4       # Number of threads to run in parallel\n",
        "context = 10          # Context window size                                                                                    \n",
        "\n",
        "w2v_model = word2vec.Word2Vec(data['Tweet'], workers=num_workers, \n",
        "            vector_size=num_features, min_count = min_word_count, \n",
        "            window = context)\n",
        "\n",
        "w2v_model.init_sims(replace=True)"
      ],
      "metadata": {
        "colab": {
          "base_uri": "https://localhost:8080/"
        },
        "id": "5DnUWWMuewQG",
        "outputId": "955cb102-5c58-4917-d99d-e3deebee2164"
      },
      "execution_count": null,
      "outputs": [
        {
          "output_type": "stream",
          "name": "stderr",
          "text": [
            "WARNING:gensim.models.word2vec:Each 'sentences' item should be a list of words (usually unicode strings). First item here is instead plain <class 'str'>.\n",
            "<ipython-input-19-d47dce2c817e>:10: DeprecationWarning: Call to deprecated `init_sims` (Gensim 4.0.0 implemented internal optimizations that make calls to init_sims() unnecessary. init_sims() is now obsoleted and will be completely removed in future versions. See https://github.com/RaRe-Technologies/gensim/wiki/Migrating-from-Gensim-3.x-to-4).\n",
            "  w2v_model.init_sims(replace=True)\n",
            "WARNING:gensim.models.keyedvectors:destructive init_sims(replace=True) deprecated & no longer required for space-efficiency\n"
          ]
        }
      ]
    },
    {
      "cell_type": "code",
      "source": [
        "embedding_dim = 300\n",
        "batch_size = 128\n",
        "#drop_out = 0.5\n",
        "num_epochs = 10"
      ],
      "metadata": {
        "id": "qxcEUKWKeWwn"
      },
      "execution_count": null,
      "outputs": []
    },
    {
      "cell_type": "code",
      "source": [
        "from numpy import zeros\n",
        "embedding_matrix = zeros((vocab_length, 300))\n",
        "\n",
        "for word, i in tokenizer.word_index.items():\n",
        "    # check if the word is in the word2vec vocab\n",
        "    if word in w2v_model.wv:\n",
        "        embedding_vector = w2v_model.wv[word]\n",
        "        \n",
        "        if embedding_vector is not None:\n",
        "            embedding_matrix[i] = embedding_vector"
      ],
      "metadata": {
        "id": "jVTXHfGte4MQ"
      },
      "execution_count": null,
      "outputs": []
    },
    {
      "cell_type": "code",
      "source": [
        "from sklearn.model_selection import train_test_split"
      ],
      "metadata": {
        "id": "P3wmmSnxincs"
      },
      "execution_count": null,
      "outputs": []
    },
    {
      "cell_type": "code",
      "source": [
        "X_train, X_test, y_train, y_test = train_test_split(X,y, train_size=0.8, shuffle=True,random_state=42,stratify=y)\n",
        "X_train, X_val, y_train, y_val = train_test_split(X_train,y_train, test_size=0.15,shuffle=True,random_state=42,stratify=y_train)"
      ],
      "metadata": {
        "id": "NIPos7qlfO2t"
      },
      "execution_count": null,
      "outputs": []
    },
    {
      "cell_type": "code",
      "source": [
        "X_val.shape"
      ],
      "metadata": {
        "colab": {
          "base_uri": "https://localhost:8080/"
        },
        "id": "kwf3b_gdfYA5",
        "outputId": "31026a67-c8cb-44d8-a0c8-50d639c9a28c"
      },
      "execution_count": null,
      "outputs": [
        {
          "output_type": "execute_result",
          "data": {
            "text/plain": [
              "(15566, 276)"
            ]
          },
          "metadata": {},
          "execution_count": 35
        }
      ]
    },
    {
      "cell_type": "code",
      "source": [
        "X_test.shape"
      ],
      "metadata": {
        "colab": {
          "base_uri": "https://localhost:8080/"
        },
        "id": "tJk24R_Drl-M",
        "outputId": "6ab64b7b-35aa-4967-c262-221ae5372347"
      },
      "execution_count": null,
      "outputs": [
        {
          "output_type": "execute_result",
          "data": {
            "text/plain": [
              "(25943, 276)"
            ]
          },
          "metadata": {},
          "execution_count": 36
        }
      ]
    },
    {
      "cell_type": "code",
      "source": [
        "X_train.shape"
      ],
      "metadata": {
        "colab": {
          "base_uri": "https://localhost:8080/"
        },
        "id": "ZeaI3hd0rorN",
        "outputId": "72c727d9-56ca-4e8d-edfb-60b20fcf03ea"
      },
      "execution_count": null,
      "outputs": [
        {
          "output_type": "execute_result",
          "data": {
            "text/plain": [
              "(88206, 276)"
            ]
          },
          "metadata": {},
          "execution_count": 37
        }
      ]
    },
    {
      "cell_type": "code",
      "source": [
        "embedding_matrix.shape"
      ],
      "metadata": {
        "colab": {
          "base_uri": "https://localhost:8080/"
        },
        "id": "MsehRywbrrXf",
        "outputId": "0e20dc5c-cf1a-41b1-cd2d-ae3ea74247c0"
      },
      "execution_count": null,
      "outputs": [
        {
          "output_type": "execute_result",
          "data": {
            "text/plain": [
              "(37620, 300)"
            ]
          },
          "metadata": {},
          "execution_count": 38
        }
      ]
    },
    {
      "cell_type": "code",
      "source": [
        "# model1 = Sequential([\n",
        "#     Embedding(vocab_length,300, weights=[embedding_matrix], input_length=max_len),\n",
        "#     Conv1D(128),\n",
        "#     Dense(5, activation='softmax')\n",
        "#     ])\n",
        "# model1.summary()\n",
        "# opt = Adam(learning_rate=0.00001)\n",
        "# model1.compile(optimizer=opt,loss = CategoricalCrossentropy(from_logits=False), metrics=['accuracy'])\n",
        "\n",
        "# early_stopping = EarlyStopping(monitor='val_loss', patience=5, mode='min')\n",
        "# history = model1.fit(X_train, y_train, validation_data=(X_val, y_val),epochs=30, verbose=1,\n",
        "#                callbacks=[early_stopping])"
      ],
      "metadata": {
        "id": "3XXPiAoP0C0k"
      },
      "execution_count": null,
      "outputs": []
    },
    {
      "cell_type": "code",
      "source": [
        "model = Sequential([\n",
        "    Embedding(vocab_length,300, weights=[embedding_matrix], input_length=max_len),\n",
        "    Conv1D(128, 1, activation='relu',kernel_regularizer=regularizers.l2(0.000001)),\n",
        "    Flatten(),\n",
        "    Dense(5, activation='softmax')\n",
        "    ])\n",
        "model.summary()\n",
        "opt = Adam(learning_rate=0.00001)\n",
        "model.compile(optimizer=opt,loss = CategoricalCrossentropy(from_logits=False), metrics=['accuracy'])\n",
        "\n",
        "early_stopping = EarlyStopping(monitor='val_loss', patience=5, mode='min')\n",
        "history = model.fit(X_train, y_train, validation_data=(X_val, y_val),epochs=30, verbose=1,\n",
        "               callbacks=[early_stopping])"
      ],
      "metadata": {
        "colab": {
          "base_uri": "https://localhost:8080/"
        },
        "id": "j2OYsa2G5Wss",
        "outputId": "3856f6d2-7f7d-4bbd-d93e-7033186fd658"
      },
      "execution_count": null,
      "outputs": [
        {
          "output_type": "stream",
          "name": "stdout",
          "text": [
            "Model: \"sequential_1\"\n",
            "_________________________________________________________________\n",
            " Layer (type)                Output Shape              Param #   \n",
            "=================================================================\n",
            " embedding_1 (Embedding)     (None, 276, 300)          11286000  \n",
            "                                                                 \n",
            " conv1d_1 (Conv1D)           (None, 276, 128)          38528     \n",
            "                                                                 \n",
            " flatten_1 (Flatten)         (None, 35328)             0         \n",
            "                                                                 \n",
            " dense_1 (Dense)             (None, 5)                 176645    \n",
            "                                                                 \n",
            "=================================================================\n",
            "Total params: 11,501,173\n",
            "Trainable params: 11,501,173\n",
            "Non-trainable params: 0\n",
            "_________________________________________________________________\n",
            "Epoch 1/30\n",
            "2757/2757 [==============================] - 74s 26ms/step - loss: 1.3696 - accuracy: 0.4408 - val_loss: 1.1847 - val_accuracy: 0.5389\n",
            "Epoch 2/30\n",
            "2757/2757 [==============================] - 23s 8ms/step - loss: 1.0748 - accuracy: 0.5658 - val_loss: 0.9880 - val_accuracy: 0.5849\n",
            "Epoch 3/30\n",
            "2757/2757 [==============================] - 22s 8ms/step - loss: 0.8860 - accuracy: 0.6578 - val_loss: 0.8336 - val_accuracy: 0.6753\n",
            "Epoch 4/30\n",
            "2757/2757 [==============================] - 23s 8ms/step - loss: 0.7659 - accuracy: 0.7197 - val_loss: 0.7517 - val_accuracy: 0.7265\n",
            "Epoch 5/30\n",
            "2757/2757 [==============================] - 22s 8ms/step - loss: 0.6951 - accuracy: 0.7502 - val_loss: 0.7016 - val_accuracy: 0.7417\n",
            "Epoch 6/30\n",
            "2757/2757 [==============================] - 22s 8ms/step - loss: 0.6441 - accuracy: 0.7665 - val_loss: 0.6657 - val_accuracy: 0.7538\n",
            "Epoch 7/30\n",
            "2757/2757 [==============================] - 21s 8ms/step - loss: 0.6033 - accuracy: 0.7820 - val_loss: 0.6369 - val_accuracy: 0.7630\n",
            "Epoch 8/30\n",
            "2757/2757 [==============================] - 20s 7ms/step - loss: 0.5693 - accuracy: 0.7963 - val_loss: 0.6151 - val_accuracy: 0.7754\n",
            "Epoch 9/30\n",
            "2757/2757 [==============================] - 21s 8ms/step - loss: 0.5409 - accuracy: 0.8115 - val_loss: 0.5969 - val_accuracy: 0.7844\n",
            "Epoch 10/30\n",
            "2757/2757 [==============================] - 21s 8ms/step - loss: 0.5171 - accuracy: 0.8223 - val_loss: 0.5821 - val_accuracy: 0.7899\n",
            "Epoch 11/30\n",
            "2757/2757 [==============================] - 21s 7ms/step - loss: 0.4960 - accuracy: 0.8330 - val_loss: 0.5718 - val_accuracy: 0.7961\n",
            "Epoch 12/30\n",
            "2757/2757 [==============================] - 21s 8ms/step - loss: 0.4773 - accuracy: 0.8409 - val_loss: 0.5613 - val_accuracy: 0.8004\n",
            "Epoch 13/30\n",
            "2757/2757 [==============================] - 21s 8ms/step - loss: 0.4604 - accuracy: 0.8472 - val_loss: 0.5553 - val_accuracy: 0.8012\n",
            "Epoch 14/30\n",
            "2757/2757 [==============================] - 21s 7ms/step - loss: 0.4450 - accuracy: 0.8527 - val_loss: 0.5453 - val_accuracy: 0.8063\n",
            "Epoch 15/30\n",
            "2757/2757 [==============================] - 21s 8ms/step - loss: 0.4313 - accuracy: 0.8571 - val_loss: 0.5412 - val_accuracy: 0.8071\n",
            "Epoch 16/30\n",
            "2757/2757 [==============================] - 21s 8ms/step - loss: 0.4184 - accuracy: 0.8609 - val_loss: 0.5397 - val_accuracy: 0.8071\n",
            "Epoch 17/30\n",
            "2757/2757 [==============================] - 20s 7ms/step - loss: 0.4069 - accuracy: 0.8644 - val_loss: 0.5316 - val_accuracy: 0.8109\n",
            "Epoch 18/30\n",
            "2757/2757 [==============================] - 21s 7ms/step - loss: 0.3959 - accuracy: 0.8676 - val_loss: 0.5352 - val_accuracy: 0.8080\n",
            "Epoch 19/30\n",
            "2757/2757 [==============================] - 21s 7ms/step - loss: 0.3859 - accuracy: 0.8711 - val_loss: 0.5294 - val_accuracy: 0.8120\n",
            "Epoch 20/30\n",
            "2757/2757 [==============================] - 20s 7ms/step - loss: 0.3767 - accuracy: 0.8734 - val_loss: 0.5250 - val_accuracy: 0.8135\n",
            "Epoch 21/30\n",
            "2757/2757 [==============================] - 21s 7ms/step - loss: 0.3677 - accuracy: 0.8764 - val_loss: 0.5248 - val_accuracy: 0.8114\n",
            "Epoch 22/30\n",
            "2757/2757 [==============================] - 21s 7ms/step - loss: 0.3595 - accuracy: 0.8790 - val_loss: 0.5235 - val_accuracy: 0.8130\n",
            "Epoch 23/30\n",
            "2757/2757 [==============================] - 21s 7ms/step - loss: 0.3517 - accuracy: 0.8816 - val_loss: 0.5236 - val_accuracy: 0.8137\n",
            "Epoch 24/30\n",
            "2757/2757 [==============================] - 20s 7ms/step - loss: 0.3444 - accuracy: 0.8834 - val_loss: 0.5235 - val_accuracy: 0.8147\n",
            "Epoch 25/30\n",
            "2757/2757 [==============================] - 21s 8ms/step - loss: 0.3374 - accuracy: 0.8859 - val_loss: 0.5221 - val_accuracy: 0.8165\n",
            "Epoch 26/30\n",
            "2757/2757 [==============================] - 20s 7ms/step - loss: 0.3308 - accuracy: 0.8883 - val_loss: 0.5235 - val_accuracy: 0.8151\n",
            "Epoch 27/30\n",
            "2757/2757 [==============================] - 21s 8ms/step - loss: 0.3249 - accuracy: 0.8900 - val_loss: 0.5236 - val_accuracy: 0.8170\n",
            "Epoch 28/30\n",
            "2757/2757 [==============================] - 21s 8ms/step - loss: 0.3189 - accuracy: 0.8923 - val_loss: 0.5272 - val_accuracy: 0.8167\n",
            "Epoch 29/30\n",
            "2757/2757 [==============================] - 20s 7ms/step - loss: 0.3133 - accuracy: 0.8936 - val_loss: 0.5279 - val_accuracy: 0.8140\n",
            "Epoch 30/30\n",
            "2757/2757 [==============================] - 21s 8ms/step - loss: 0.3084 - accuracy: 0.8951 - val_loss: 0.5256 - val_accuracy: 0.8184\n"
          ]
        }
      ]
    },
    {
      "cell_type": "code",
      "source": [
        "#print model\n",
        "plot_model(model, show_shapes=True)"
      ],
      "metadata": {
        "id": "2REp07-ytmQh",
        "colab": {
          "base_uri": "https://localhost:8080/",
          "height": 533
        },
        "outputId": "ee74fae6-1bca-4e61-97ab-f1ab81f91e18"
      },
      "execution_count": null,
      "outputs": [
        {
          "output_type": "execute_result",
          "data": {
            "image/png": "[encoded data removed]",
            "text/plain": [
              "<IPython.core.display.Image object>"
            ]
          },
          "metadata": {},
          "execution_count": 40
        }
      ]
    },
    {
      "cell_type": "code",
      "source": [
        "#print model\n",
        "plot_model(model, show_shapes=False)"
      ],
      "metadata": {
        "id": "Ficpb1MMs4MG",
        "colab": {
          "base_uri": "https://localhost:8080/",
          "height": 466
        },
        "outputId": "fc864769-ea60-4623-ccce-f1d03114d760"
      },
      "execution_count": null,
      "outputs": [
        {
          "output_type": "execute_result",
          "data": {
            "image/png": "[encoded data removed]",
            "text/plain": [
              "<IPython.core.display.Image object>"
            ]
          },
          "metadata": {},
          "execution_count": 41
        }
      ]
    },
    {
      "cell_type": "code",
      "source": [
        "import matplotlib.pyplot as plt\n",
        "from sklearn.metrics import confusion_matrix\n",
        "from sklearn.metrics import classification_report\n",
        "from sklearn.metrics import accuracy_score\n",
        "\n",
        "def show_train_history(train_history,train,validation):\n",
        "    plt.plot(train_history.history.history[train])\n",
        "    plt.plot(train_history.history.history[validation])\n",
        "    plt.title('Train History')\n",
        "    plt.ylabel(train)\n",
        "    plt.xlabel('Epoch')\n",
        "    plt.legend(['train', 'validation'], loc='upper left')\n",
        "    plt.show()\n",
        "\n",
        "show_train_history(model,'accuracy','val_accuracy')\n",
        "show_train_history(model,'loss','val_loss') \n",
        "acc = model.history.history['accuracy']\n",
        "val_acc = model.history.history['val_accuracy']\n",
        "loss = model.history.history['loss']\n",
        "val_loss = model.history.history['val_loss']\n",
        "print(f\"Accuracy on training data is:- {acc[-1]*100} %\")\n",
        "print(f\"Loss {loss[-1]*100}\")\n",
        "print(f\"Accuracy on validation data is:- {val_acc[-1]*100} %\")\n",
        "print(f\"Loss {val_loss[-1]*100}\")"
      ],
      "metadata": {
        "id": "zlE1FIpohHxh",
        "colab": {
          "base_uri": "https://localhost:8080/",
          "height": 996
        },
        "outputId": "3b47eb4b-3487-4142-c1e1-de9aea1c94d6"
      },
      "execution_count": null,
      "outputs": [
        {
          "output_type": "display_data",
          "data": {
            "text/plain": [
              "<Figure size 640x480 with 1 Axes>"
            ],
            "image/png": "[encoded data removed]"
          },
          "metadata": {}
        },
        {
          "output_type": "display_data",
          "data": {
            "text/plain": [
              "<Figure size 640x480 with 1 Axes>"
            ],
            "image/png": "[encoded data removed]"
          },
          "metadata": {}
        },
        {
          "output_type": "stream",
          "name": "stdout",
          "text": [
            "Accuracy on training data is:- 89.50638175010681 %\n",
            "Loss 30.843585729599\n",
            "Accuracy on validation data is:- 81.83861970901489 %\n",
            "Loss 52.55962014198303\n"
          ]
        }
      ]
    },
    {
      "cell_type": "code",
      "source": [
        "# import matplotlib.pyplot as plt\n",
        "# from sklearn.metrics import confusion_matrix\n",
        "# from sklearn.metrics import classification_report\n",
        "# from sklearn.metrics import accuracy_score\n",
        "\n",
        "# show_train_history(model1,'accuracy','val_accuracy')\n",
        "# show_train_history(model1,'loss','val_loss') \n",
        "# acc = model1.history.history['accuracy']\n",
        "# val_acc = model1.history.history['val_accuracy']\n",
        "# loss = model1.history.history['loss']\n",
        "# val_loss = model1.history.history['val_loss']\n",
        "# print(f\"Accuracy on training data is:- {acc[-1]*100} %\")\n",
        "# print(f\"Loss {loss[-1]*100}\")\n",
        "# print(f\"Accuracy on validation data is:- {val_acc[-1]*100} %\")\n",
        "# print(f\"Loss {val_loss[-1]*100}\")"
      ],
      "metadata": {
        "id": "eKFk-qJa0OQ5"
      },
      "execution_count": null,
      "outputs": []
    },
    {
      "cell_type": "code",
      "source": [
        "# pred = np.argmax(model1.predict(X_test), axis =1)\n",
        "# slabels=np.argmax(y_test, axis=1)\n",
        "# print(\"F1-score of Model:\",f1_score(slabels,pred, average='macro'))\n",
        "# print(classification_report(slabels,pred))"
      ],
      "metadata": {
        "id": "IkAZdbW00VmV"
      },
      "execution_count": null,
      "outputs": []
    },
    {
      "cell_type": "code",
      "source": [
        "pred = np.argmax(model.predict(X_test), axis =1)\n",
        "slabels=np.argmax(y_test, axis=1)\n",
        "print(\"F1-score of Model:\",f1_score(slabels,pred, average='macro'))\n",
        "print(classification_report(slabels,pred))"
      ],
      "metadata": {
        "id": "rvAagmNdhM1z",
        "colab": {
          "base_uri": "https://localhost:8080/"
        },
        "outputId": "920d3363-f19d-433f-8a40-ec418361612b"
      },
      "execution_count": null,
      "outputs": [
        {
          "output_type": "stream",
          "name": "stdout",
          "text": [
            "811/811 [==============================] - 1s 2ms/step\n",
            "F1-score of Model: 0.7860127731008555\n",
            "              precision    recall  f1-score   support\n",
            "\n",
            "           0       0.88      0.90      0.89      8947\n",
            "           1       0.82      0.85      0.84      7919\n",
            "           2       0.77      0.74      0.75      3548\n",
            "           3       0.81      0.76      0.79      3529\n",
            "           4       0.68      0.64      0.66      2000\n",
            "\n",
            "    accuracy                           0.83     25943\n",
            "   macro avg       0.79      0.78      0.79     25943\n",
            "weighted avg       0.82      0.83      0.82     25943\n",
            "\n"
          ]
        }
      ]
    },
    {
      "cell_type": "code",
      "source": [
        "from sklearn.metrics import confusion_matrix\n",
        "cm = confusion_matrix(slabels, pred)\n",
        "cm"
      ],
      "metadata": {
        "id": "ktAMU_W9niEr",
        "colab": {
          "base_uri": "https://localhost:8080/"
        },
        "outputId": "178c28f1-7123-4a10-9b2c-ef964b5fc83b"
      },
      "execution_count": null,
      "outputs": [
        {
          "output_type": "execute_result",
          "data": {
            "text/plain": [
              "array([[8040,  476,  170,  140,  121],\n",
              "       [ 448, 6767,  301,  199,  204],\n",
              "       [ 248,  362, 2623,  178,  137],\n",
              "       [ 195,  316,  188, 2694,  136],\n",
              "       [ 193,  282,  127,  116, 1282]])"
            ]
          },
          "metadata": {},
          "execution_count": 46
        }
      ]
    },
    {
      "cell_type": "code",
      "source": [
        "import seaborn as sns\n",
        "from sklearn.metrics import confusion_matrix, ConfusionMatrixDisplay, make_confusion_matrix\n",
        "cm2 = confusion_matrix(slabels, pred,normalize=\"true\")\n",
        "categories = ['airport', 'chruch','hospital','zoo','restaurant']\n",
        "make_confusion_matrix(cm, categories=categories, cmap='binary')\n"
      ],
      "metadata": {
        "colab": {
          "base_uri": "https://localhost:8080/",
          "height": 374
        },
        "id": "UDv-G25L8grz",
        "outputId": "d51b2b7f-6f6e-47f5-811c-73e2b9fd1aae"
      },
      "execution_count": null,
      "outputs": [
        {
          "output_type": "error",
          "ename": "ImportError",
          "evalue": "ignored",
          "traceback": [
            "\u001b[0;31m---------------------------------------------------------------------------\u001b[0m",
            "\u001b[0;31mImportError\u001b[0m                               Traceback (most recent call last)",
            "\u001b[0;32m<ipython-input-49-1f285ca8421d>\u001b[0m in \u001b[0;36m<cell line: 2>\u001b[0;34m()\u001b[0m\n\u001b[1;32m      1\u001b[0m \u001b[0;32mimport\u001b[0m \u001b[0mseaborn\u001b[0m \u001b[0;32mas\u001b[0m \u001b[0msns\u001b[0m\u001b[0;34m\u001b[0m\u001b[0;34m\u001b[0m\u001b[0m\n\u001b[0;32m----> 2\u001b[0;31m \u001b[0;32mfrom\u001b[0m \u001b[0msklearn\u001b[0m\u001b[0;34m.\u001b[0m\u001b[0mmetrics\u001b[0m \u001b[0;32mimport\u001b[0m \u001b[0mconfusion_matrix\u001b[0m\u001b[0;34m,\u001b[0m \u001b[0mConfusionMatrixDisplay\u001b[0m\u001b[0;34m,\u001b[0m \u001b[0mmake_confusion_matrix\u001b[0m\u001b[0;34m\u001b[0m\u001b[0;34m\u001b[0m\u001b[0m\n\u001b[0m\u001b[1;32m      3\u001b[0m \u001b[0mcm2\u001b[0m \u001b[0;34m=\u001b[0m \u001b[0mconfusion_matrix\u001b[0m\u001b[0;34m(\u001b[0m\u001b[0mslabels\u001b[0m\u001b[0;34m,\u001b[0m \u001b[0mpred\u001b[0m\u001b[0;34m,\u001b[0m\u001b[0mnormalize\u001b[0m\u001b[0;34m=\u001b[0m\u001b[0;34m\"true\"\u001b[0m\u001b[0;34m)\u001b[0m\u001b[0;34m\u001b[0m\u001b[0;34m\u001b[0m\u001b[0m\n\u001b[1;32m      4\u001b[0m \u001b[0mcategories\u001b[0m \u001b[0;34m=\u001b[0m \u001b[0;34m[\u001b[0m\u001b[0;34m'airport'\u001b[0m\u001b[0;34m,\u001b[0m \u001b[0;34m'chruch'\u001b[0m\u001b[0;34m,\u001b[0m\u001b[0;34m'hospital'\u001b[0m\u001b[0;34m,\u001b[0m\u001b[0;34m'zoo'\u001b[0m\u001b[0;34m,\u001b[0m\u001b[0;34m'restaurant'\u001b[0m\u001b[0;34m]\u001b[0m\u001b[0;34m\u001b[0m\u001b[0;34m\u001b[0m\u001b[0m\n\u001b[1;32m      5\u001b[0m \u001b[0mmake_confusion_matrix\u001b[0m\u001b[0;34m(\u001b[0m\u001b[0mcm\u001b[0m\u001b[0;34m,\u001b[0m \u001b[0mcategories\u001b[0m\u001b[0;34m=\u001b[0m\u001b[0mcategories\u001b[0m\u001b[0;34m,\u001b[0m \u001b[0mcmap\u001b[0m\u001b[0;34m=\u001b[0m\u001b[0;34m'binary'\u001b[0m\u001b[0;34m)\u001b[0m\u001b[0;34m\u001b[0m\u001b[0;34m\u001b[0m\u001b[0m\n",
            "\u001b[0;31mImportError\u001b[0m: cannot import name 'make_confusion_matrix' from 'sklearn.metrics' (/usr/local/lib/python3.9/dist-packages/sklearn/metrics/__init__.py)",
            "",
            "\u001b[0;31m---------------------------------------------------------------------------\u001b[0;32m\nNOTE: If your import is failing due to a missing package, you can\nmanually install dependencies using either !pip or !apt.\n\nTo view examples of installing some common dependencies, click the\n\"Open Examples\" button below.\n\u001b[0;31m---------------------------------------------------------------------------\u001b[0m\n"
          ],
          "errorDetails": {
            "actions": [
              {
                "action": "open_url",
                "actionText": "Open Examples",
                "url": "/notebooks/snippets/importing_libraries.ipynb"
              }
            ]
          }
        }
      ]
    },
    {
      "cell_type": "code",
      "source": [
        "import seaborn as sns\n",
        "#Visualization of Confusion Matrix\n",
        "# cm2 = confusion_matrix(slabels, pred,normalize=\"true\")\n",
        "# sns.heatmap(cm2,annot=True)\n",
        "\n",
        "import matplotlib.pyplot as plt\n",
        "from sklearn.metrics import confusion_matrix, ConfusionMatrixDisplay\n",
        "cm2 = confusion_matrix(slabels, pred,normalize=\"true\", labels=['airport', 'chruch','hospital','zoo','restaurant'], )\n",
        "disp = ConfusionMatrixDisplay(confusion_matrix=cm2, display_labels=model.classes_)\n",
        "disp.plot()\n",
        "plt.show()"
      ],
      "metadata": {
        "id": "PcAQNSfGnfLV",
        "colab": {
          "base_uri": "https://localhost:8080/",
          "height": 357
        },
        "outputId": "5826e2ea-661d-4fff-a5e9-ae7d7c489158"
      },
      "execution_count": null,
      "outputs": [
        {
          "output_type": "error",
          "ename": "ValueError",
          "evalue": "ignored",
          "traceback": [
            "\u001b[0;31m---------------------------------------------------------------------------\u001b[0m",
            "\u001b[0;31mValueError\u001b[0m                                Traceback (most recent call last)",
            "\u001b[0;32m<ipython-input-48-f1d83a0c5537>\u001b[0m in \u001b[0;36m<cell line: 8>\u001b[0;34m()\u001b[0m\n\u001b[1;32m      6\u001b[0m \u001b[0;32mimport\u001b[0m \u001b[0mmatplotlib\u001b[0m\u001b[0;34m.\u001b[0m\u001b[0mpyplot\u001b[0m \u001b[0;32mas\u001b[0m \u001b[0mplt\u001b[0m\u001b[0;34m\u001b[0m\u001b[0;34m\u001b[0m\u001b[0m\n\u001b[1;32m      7\u001b[0m \u001b[0;32mfrom\u001b[0m \u001b[0msklearn\u001b[0m\u001b[0;34m.\u001b[0m\u001b[0mmetrics\u001b[0m \u001b[0;32mimport\u001b[0m \u001b[0mconfusion_matrix\u001b[0m\u001b[0;34m,\u001b[0m \u001b[0mConfusionMatrixDisplay\u001b[0m\u001b[0;34m\u001b[0m\u001b[0;34m\u001b[0m\u001b[0m\n\u001b[0;32m----> 8\u001b[0;31m \u001b[0mcm2\u001b[0m \u001b[0;34m=\u001b[0m \u001b[0mconfusion_matrix\u001b[0m\u001b[0;34m(\u001b[0m\u001b[0mslabels\u001b[0m\u001b[0;34m,\u001b[0m \u001b[0mpred\u001b[0m\u001b[0;34m,\u001b[0m\u001b[0mnormalize\u001b[0m\u001b[0;34m=\u001b[0m\u001b[0;34m\"true\"\u001b[0m\u001b[0;34m,\u001b[0m \u001b[0mlabels\u001b[0m\u001b[0;34m=\u001b[0m\u001b[0;34m[\u001b[0m\u001b[0;34m'airport'\u001b[0m\u001b[0;34m,\u001b[0m \u001b[0;34m'chruch'\u001b[0m\u001b[0;34m,\u001b[0m\u001b[0;34m'hospital'\u001b[0m\u001b[0;34m,\u001b[0m\u001b[0;34m'zoo'\u001b[0m\u001b[0;34m,\u001b[0m\u001b[0;34m'restaurant'\u001b[0m\u001b[0;34m]\u001b[0m\u001b[0;34m,\u001b[0m \u001b[0;34m)\u001b[0m\u001b[0;34m\u001b[0m\u001b[0;34m\u001b[0m\u001b[0m\n\u001b[0m\u001b[1;32m      9\u001b[0m \u001b[0mdisp\u001b[0m \u001b[0;34m=\u001b[0m \u001b[0mConfusionMatrixDisplay\u001b[0m\u001b[0;34m(\u001b[0m\u001b[0mconfusion_matrix\u001b[0m\u001b[0;34m=\u001b[0m\u001b[0mcm2\u001b[0m\u001b[0;34m,\u001b[0m \u001b[0mdisplay_labels\u001b[0m\u001b[0;34m=\u001b[0m\u001b[0mmodel\u001b[0m\u001b[0;34m.\u001b[0m\u001b[0mclasses_\u001b[0m\u001b[0;34m)\u001b[0m\u001b[0;34m\u001b[0m\u001b[0;34m\u001b[0m\u001b[0m\n\u001b[1;32m     10\u001b[0m \u001b[0mdisp\u001b[0m\u001b[0;34m.\u001b[0m\u001b[0mplot\u001b[0m\u001b[0;34m(\u001b[0m\u001b[0;34m)\u001b[0m\u001b[0;34m\u001b[0m\u001b[0;34m\u001b[0m\u001b[0m\n",
            "\u001b[0;32m/usr/local/lib/python3.9/dist-packages/sklearn/metrics/_classification.py\u001b[0m in \u001b[0;36mconfusion_matrix\u001b[0;34m(y_true, y_pred, labels, sample_weight, normalize)\u001b[0m\n\u001b[1;32m    329\u001b[0m             \u001b[0;32mreturn\u001b[0m \u001b[0mnp\u001b[0m\u001b[0;34m.\u001b[0m\u001b[0mzeros\u001b[0m\u001b[0;34m(\u001b[0m\u001b[0;34m(\u001b[0m\u001b[0mn_labels\u001b[0m\u001b[0;34m,\u001b[0m \u001b[0mn_labels\u001b[0m\u001b[0;34m)\u001b[0m\u001b[0;34m,\u001b[0m \u001b[0mdtype\u001b[0m\u001b[0;34m=\u001b[0m\u001b[0mint\u001b[0m\u001b[0;34m)\u001b[0m\u001b[0;34m\u001b[0m\u001b[0;34m\u001b[0m\u001b[0m\n\u001b[1;32m    330\u001b[0m         \u001b[0;32melif\u001b[0m \u001b[0mlen\u001b[0m\u001b[0;34m(\u001b[0m\u001b[0mnp\u001b[0m\u001b[0;34m.\u001b[0m\u001b[0mintersect1d\u001b[0m\u001b[0;34m(\u001b[0m\u001b[0my_true\u001b[0m\u001b[0;34m,\u001b[0m \u001b[0mlabels\u001b[0m\u001b[0;34m)\u001b[0m\u001b[0;34m)\u001b[0m \u001b[0;34m==\u001b[0m \u001b[0;36m0\u001b[0m\u001b[0;34m:\u001b[0m\u001b[0;34m\u001b[0m\u001b[0;34m\u001b[0m\u001b[0m\n\u001b[0;32m--> 331\u001b[0;31m             \u001b[0;32mraise\u001b[0m \u001b[0mValueError\u001b[0m\u001b[0;34m(\u001b[0m\u001b[0;34m\"At least one label specified must be in y_true\"\u001b[0m\u001b[0;34m)\u001b[0m\u001b[0;34m\u001b[0m\u001b[0;34m\u001b[0m\u001b[0m\n\u001b[0m\u001b[1;32m    332\u001b[0m \u001b[0;34m\u001b[0m\u001b[0m\n\u001b[1;32m    333\u001b[0m     \u001b[0;32mif\u001b[0m \u001b[0msample_weight\u001b[0m \u001b[0;32mis\u001b[0m \u001b[0;32mNone\u001b[0m\u001b[0;34m:\u001b[0m\u001b[0;34m\u001b[0m\u001b[0;34m\u001b[0m\u001b[0m\n",
            "\u001b[0;31mValueError\u001b[0m: At least one label specified must be in y_true"
          ]
        }
      ]
    }
  ]
}