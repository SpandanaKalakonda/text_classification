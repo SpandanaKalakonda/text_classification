{
  "nbformat": 4,
  "nbformat_minor": 0,
  "metadata": {
    "colab": {
      "provenance": []
    },
    "kernelspec": {
      "name": "python3",
      "display_name": "Python 3"
    },
    "language_info": {
      "name": "python"
    },
    "gpuClass": "standard",
    "accelerator": "GPU"
  },
  "cells": [
    {
      "cell_type": "code",
      "execution_count": 97,
      "metadata": {
        "id": "A2TmitpMdJrO"
      },
      "outputs": [],
      "source": [
        "import pandas as pd\n",
        "import numpy as np"
      ]
    },
    {
      "cell_type": "code",
      "source": [
        "d1 = pd.read_csv(\"/content/flabel12.csv\")\n",
        "d2 = pd.read_csv(\"/content/dataairport1.csv\")\n",
        "d3 = pd.read_csv(\"/content/datachruch1.csv\")\n",
        "d4 = pd.read_csv(\"/content/datahospital1.csv\")\n",
        "d5 = pd.read_csv(\"/content/datarestaurant.csv\")\n",
        "d6 = pd.read_csv(\"/content/datazoo1.csv\")"
      ],
      "metadata": {
        "id": "GMkliZtwqB8v"
      },
      "execution_count": 98,
      "outputs": []
    },
    {
      "cell_type": "code",
      "source": [
        "data = pd.concat([d1,d3,d4,d5,d6])\n",
        "data.shape"
      ],
      "metadata": {
        "id": "Q4I1gdOvdNEH",
        "colab": {
          "base_uri": "https://localhost:8080/"
        },
        "outputId": "7eb870e7-3517-4f1b-a1b1-17c4109c8195"
      },
      "execution_count": 99,
      "outputs": [
        {
          "output_type": "execute_result",
          "data": {
            "text/plain": [
              "(131625, 5)"
            ]
          },
          "metadata": {},
          "execution_count": 99
        }
      ]
    },
    {
      "cell_type": "code",
      "source": [
        "data.drop_duplicates(subset=['Tweet'], inplace = True)\n",
        "print(\"No of Unique tweets: \", data['Tweet'].count())"
      ],
      "metadata": {
        "id": "bvGyZi7adWMn",
        "colab": {
          "base_uri": "https://localhost:8080/"
        },
        "outputId": "733183d3-e668-4e30-e995-1fa93b150ecf"
      },
      "execution_count": 100,
      "outputs": [
        {
          "output_type": "stream",
          "name": "stdout",
          "text": [
            "No of Unique tweets:  129715\n"
          ]
        }
      ]
    },
    {
      "cell_type": "code",
      "source": [
        "import matplotlib.pyplot as plt\n",
        "import seaborn as sns\n",
        "plt.figure(figsize=(6,4))\n",
        "sns.countplot(data['Public_Place'])\n",
        "plt.title(\"The distribution of Tweets\")"
      ],
      "metadata": {
        "colab": {
          "base_uri": "https://localhost:8080/",
          "height": 368
        },
        "id": "15PyBBuN0nfL",
        "outputId": "02801035-638d-4dac-c347-ad95cc4cc7de"
      },
      "execution_count": 101,
      "outputs": [
        {
          "output_type": "stream",
          "name": "stderr",
          "text": [
            "/usr/local/lib/python3.8/dist-packages/seaborn/_decorators.py:36: FutureWarning: Pass the following variable as a keyword arg: x. From version 0.12, the only valid positional argument will be `data`, and passing other arguments without an explicit keyword will result in an error or misinterpretation.\n",
            "  warnings.warn(\n"
          ]
        },
        {
          "output_type": "execute_result",
          "data": {
            "text/plain": [
              "Text(0.5, 1.0, 'The distribution of Tweets')"
            ]
          },
          "metadata": {},
          "execution_count": 101
        },
        {
          "output_type": "display_data",
          "data": {
            "text/plain": [
              "<Figure size 432x288 with 1 Axes>"
            ],
            "image/png": "[encoded data removed]"
          },
          "metadata": {
            "needs_background": "light"
          }
        }
      ]
    },
    {
      "cell_type": "code",
      "source": [
        "data.sample(5)"
      ],
      "metadata": {
        "colab": {
          "base_uri": "https://localhost:8080/",
          "height": 206
        },
        "id": "QxkBAouj0wCy",
        "outputId": "282e4ec1-d687-4738-f71c-7800761e34e3"
      },
      "execution_count": 102,
      "outputs": [
        {
          "output_type": "execute_result",
          "data": {
            "text/plain": [
              "                            Time         Username  ... Label  Public_Place\n",
              "36235  2014-01-09 17:19:36+00:00        JimiFifth  ...     2      Hospital\n",
              "10329  2022-07-27 00:57:21+00:00       WilsonTobs  ...     1    Restaurant\n",
              "18251  2019-06-12 18:47:08+00:00     TacoLover_DM  ...     1    Restaurant\n",
              "4748   2023-02-10 08:01:58+00:00  Food_DrinkWales  ...     1    restaurant\n",
              "55569  2019-02-16 16:17:31+00:00   PrettyGlobal23  ...     0       Airport\n",
              "\n",
              "[5 rows x 5 columns]"
            ],
            "text/html": [
              "\n",
              "  <div id=\"df-6df5e3ef-921e-49b0-8b05-4208c4f25cbf\">\n",
              "    <div class=\"colab-df-container\">\n",
              "      <div>\n",
              "<style scoped>\n",
              "    .dataframe tbody tr th:only-of-type {\n",
              "        vertical-align: middle;\n",
              "    }\n",
              "\n",
              "    .dataframe tbody tr th {\n",
              "        vertical-align: top;\n",
              "    }\n",
              "\n",
              "    .dataframe thead th {\n",
              "        text-align: right;\n",
              "    }\n",
              "</style>\n",
              "<table border=\"1\" class=\"dataframe\">\n",
              "  <thead>\n",
              "    <tr style=\"text-align: right;\">\n",
              "      <th></th>\n",
              "      <th>Time</th>\n",
              "      <th>Username</th>\n",
              "      <th>Tweet</th>\n",
              "      <th>Label</th>\n",
              "      <th>Public_Place</th>\n",
              "    </tr>\n",
              "  </thead>\n",
              "  <tbody>\n",
              "    <tr>\n",
              "      <th>36235</th>\n",
              "      <td>2014-01-09 17:19:36+00:00</td>\n",
              "      <td>JimiFifth</td>\n",
              "      <td>I'm at UH Seidman Cancer Center - @uhhospitals...</td>\n",
              "      <td>2</td>\n",
              "      <td>Hospital</td>\n",
              "    </tr>\n",
              "    <tr>\n",
              "      <th>10329</th>\n",
              "      <td>2022-07-27 00:57:21+00:00</td>\n",
              "      <td>WilsonTobs</td>\n",
              "      <td>🚨UPDATE ALERT🚨 Sammy Sass with a 3 run HOMERUN...</td>\n",
              "      <td>1</td>\n",
              "      <td>Restaurant</td>\n",
              "    </tr>\n",
              "    <tr>\n",
              "      <th>18251</th>\n",
              "      <td>2019-06-12 18:47:08+00:00</td>\n",
              "      <td>TacoLover_DM</td>\n",
              "      <td>I'm at @SUBWAY in Bourbonnais, IL https://t.co...</td>\n",
              "      <td>1</td>\n",
              "      <td>Restaurant</td>\n",
              "    </tr>\n",
              "    <tr>\n",
              "      <th>4748</th>\n",
              "      <td>2023-02-10 08:01:58+00:00</td>\n",
              "      <td>Food_DrinkWales</td>\n",
              "      <td>🚨 Warning 🚨\\nOnly 5 Fridays remain to enter Th...</td>\n",
              "      <td>1</td>\n",
              "      <td>restaurant</td>\n",
              "    </tr>\n",
              "    <tr>\n",
              "      <th>55569</th>\n",
              "      <td>2019-02-16 16:17:31+00:00</td>\n",
              "      <td>PrettyGlobal23</td>\n",
              "      <td>I'm at Hartsfield-Jackson Atlanta Internationa...</td>\n",
              "      <td>0</td>\n",
              "      <td>Airport</td>\n",
              "    </tr>\n",
              "  </tbody>\n",
              "</table>\n",
              "</div>\n",
              "      <button class=\"colab-df-convert\" onclick=\"convertToInteractive('df-6df5e3ef-921e-49b0-8b05-4208c4f25cbf')\"\n",
              "              title=\"Convert this dataframe to an interactive table.\"\n",
              "              style=\"display:none;\">\n",
              "        \n",
              "  <svg xmlns=\"http://www.w3.org/2000/svg\" height=\"24px\"viewBox=\"0 0 24 24\"\n",
              "       width=\"24px\">\n",
              "    <path d=\"M0 0h24v24H0V0z\" fill=\"none\"/>\n",
              "    <path d=\"M18.56 5.44l.94 2.06.94-2.06 2.06-.94-2.06-.94-.94-2.06-.94 2.06-2.06.94zm-11 1L8.5 8.5l.94-2.06 2.06-.94-2.06-.94L8.5 2.5l-.94 2.06-2.06.94zm10 10l.94 2.06.94-2.06 2.06-.94-2.06-.94-.94-2.06-.94 2.06-2.06.94z\"/><path d=\"M17.41 7.96l-1.37-1.37c-.4-.4-.92-.59-1.43-.59-.52 0-1.04.2-1.43.59L10.3 9.45l-7.72 7.72c-.78.78-.78 2.05 0 2.83L4 21.41c.39.39.9.59 1.41.59.51 0 1.02-.2 1.41-.59l7.78-7.78 2.81-2.81c.8-.78.8-2.07 0-2.86zM5.41 20L4 18.59l7.72-7.72 1.47 1.35L5.41 20z\"/>\n",
              "  </svg>\n",
              "      </button>\n",
              "      \n",
              "  <style>\n",
              "    .colab-df-container {\n",
              "      display:flex;\n",
              "      flex-wrap:wrap;\n",
              "      gap: 12px;\n",
              "    }\n",
              "\n",
              "    .colab-df-convert {\n",
              "      background-color: #E8F0FE;\n",
              "      border: none;\n",
              "      border-radius: 50%;\n",
              "      cursor: pointer;\n",
              "      display: none;\n",
              "      fill: #1967D2;\n",
              "      height: 32px;\n",
              "      padding: 0 0 0 0;\n",
              "      width: 32px;\n",
              "    }\n",
              "\n",
              "    .colab-df-convert:hover {\n",
              "      background-color: #E2EBFA;\n",
              "      box-shadow: 0px 1px 2px rgba(60, 64, 67, 0.3), 0px 1px 3px 1px rgba(60, 64, 67, 0.15);\n",
              "      fill: #174EA6;\n",
              "    }\n",
              "\n",
              "    [theme=dark] .colab-df-convert {\n",
              "      background-color: #3B4455;\n",
              "      fill: #D2E3FC;\n",
              "    }\n",
              "\n",
              "    [theme=dark] .colab-df-convert:hover {\n",
              "      background-color: #434B5C;\n",
              "      box-shadow: 0px 1px 3px 1px rgba(0, 0, 0, 0.15);\n",
              "      filter: drop-shadow(0px 1px 2px rgba(0, 0, 0, 0.3));\n",
              "      fill: #FFFFFF;\n",
              "    }\n",
              "  </style>\n",
              "\n",
              "      <script>\n",
              "        const buttonEl =\n",
              "          document.querySelector('#df-6df5e3ef-921e-49b0-8b05-4208c4f25cbf button.colab-df-convert');\n",
              "        buttonEl.style.display =\n",
              "          google.colab.kernel.accessAllowed ? 'block' : 'none';\n",
              "\n",
              "        async function convertToInteractive(key) {\n",
              "          const element = document.querySelector('#df-6df5e3ef-921e-49b0-8b05-4208c4f25cbf');\n",
              "          const dataTable =\n",
              "            await google.colab.kernel.invokeFunction('convertToInteractive',\n",
              "                                                     [key], {});\n",
              "          if (!dataTable) return;\n",
              "\n",
              "          const docLinkHtml = 'Like what you see? Visit the ' +\n",
              "            '<a target=\"_blank\" href=https://colab.research.google.com/notebooks/data_table.ipynb>data table notebook</a>'\n",
              "            + ' to learn more about interactive tables.';\n",
              "          element.innerHTML = '';\n",
              "          dataTable['output_type'] = 'display_data';\n",
              "          await google.colab.output.renderOutput(dataTable, element);\n",
              "          const docLink = document.createElement('div');\n",
              "          docLink.innerHTML = docLinkHtml;\n",
              "          element.appendChild(docLink);\n",
              "        }\n",
              "      </script>\n",
              "    </div>\n",
              "  </div>\n",
              "  "
            ]
          },
          "metadata": {},
          "execution_count": 102
        }
      ]
    },
    {
      "cell_type": "code",
      "source": [
        "import nltk\n",
        "import re, string\n",
        "from nltk.corpus import stopwords\n",
        "nltk.download('stopwords')\n",
        "stopword = stopwords.words('english')\n",
        "print(\"Stopwords:\",stopword)"
      ],
      "metadata": {
        "id": "UHhf4rOHdYrv",
        "colab": {
          "base_uri": "https://localhost:8080/"
        },
        "outputId": "354cf28c-0315-44a1-9986-49de1e0da639"
      },
      "execution_count": 103,
      "outputs": [
        {
          "output_type": "stream",
          "name": "stdout",
          "text": [
            "Stopwords: ['i', 'me', 'my', 'myself', 'we', 'our', 'ours', 'ourselves', 'you', \"you're\", \"you've\", \"you'll\", \"you'd\", 'your', 'yours', 'yourself', 'yourselves', 'he', 'him', 'his', 'himself', 'she', \"she's\", 'her', 'hers', 'herself', 'it', \"it's\", 'its', 'itself', 'they', 'them', 'their', 'theirs', 'themselves', 'what', 'which', 'who', 'whom', 'this', 'that', \"that'll\", 'these', 'those', 'am', 'is', 'are', 'was', 'were', 'be', 'been', 'being', 'have', 'has', 'had', 'having', 'do', 'does', 'did', 'doing', 'a', 'an', 'the', 'and', 'but', 'if', 'or', 'because', 'as', 'until', 'while', 'of', 'at', 'by', 'for', 'with', 'about', 'against', 'between', 'into', 'through', 'during', 'before', 'after', 'above', 'below', 'to', 'from', 'up', 'down', 'in', 'out', 'on', 'off', 'over', 'under', 'again', 'further', 'then', 'once', 'here', 'there', 'when', 'where', 'why', 'how', 'all', 'any', 'both', 'each', 'few', 'more', 'most', 'other', 'some', 'such', 'no', 'nor', 'not', 'only', 'own', 'same', 'so', 'than', 'too', 'very', 's', 't', 'can', 'will', 'just', 'don', \"don't\", 'should', \"should've\", 'now', 'd', 'll', 'm', 'o', 're', 've', 'y', 'ain', 'aren', \"aren't\", 'couldn', \"couldn't\", 'didn', \"didn't\", 'doesn', \"doesn't\", 'hadn', \"hadn't\", 'hasn', \"hasn't\", 'haven', \"haven't\", 'isn', \"isn't\", 'ma', 'mightn', \"mightn't\", 'mustn', \"mustn't\", 'needn', \"needn't\", 'shan', \"shan't\", 'shouldn', \"shouldn't\", 'wasn', \"wasn't\", 'weren', \"weren't\", 'won', \"won't\", 'wouldn', \"wouldn't\"]\n"
          ]
        },
        {
          "output_type": "stream",
          "name": "stderr",
          "text": [
            "[nltk_data] Downloading package stopwords to /root/nltk_data...\n",
            "[nltk_data]   Package stopwords is already up-to-date!\n"
          ]
        }
      ]
    },
    {
      "cell_type": "code",
      "source": [
        "def clean(text):\n",
        "    text = text.lower() # lower case\n",
        "    text = re.sub(r'https?://\\S+|www\\.\\S+', \" \", text)#URL\n",
        "    text = re.sub(r'@\\w+',' ',text) # mentions\n",
        "    text = re.sub(r'#\\w+', ' ', text) #hashtags\n",
        "    text= re.sub(r'[^\\w\\s]',' ',text) #punctuations\n",
        "    text= re.sub(r'\\d+', ' ', text) #digits\n",
        "    text = re.sub('\\[.*?\\]',' ', text) #any punctuations left\n",
        "    text = re.sub(\"[^a-z0-9]\",\" \", text)# any others charcters other than numbers and letters\n",
        "    text = text.split() #stopwords\n",
        "    text = \" \".join([word for word in text if not word in stopword])\n",
        "    return text"
      ],
      "metadata": {
        "id": "n8bbZyEHdd8Q"
      },
      "execution_count": 104,
      "outputs": []
    },
    {
      "cell_type": "code",
      "source": [
        "data['Tweet'] = data['Tweet'].astype(str).apply(lambda x: clean(x))\n",
        "data['Tweet'].sample(5)"
      ],
      "metadata": {
        "id": "Z6rJS82ldhXY",
        "colab": {
          "base_uri": "https://localhost:8080/"
        },
        "outputId": "50968d30-8b33-4a4f-fd8e-975b3b7b41db"
      },
      "execution_count": 105,
      "outputs": [
        {
          "output_type": "execute_result",
          "data": {
            "text/plain": [
              "17089    fyi work people today got mad wasnt fast enoug...\n",
              "7666                                  time lift name jesus\n",
              "18902                  weeks episode sneak movies footlong\n",
              "15824                                          syracuse ny\n",
              "75885    anyone gonna fly know wait long line check bag...\n",
              "Name: Tweet, dtype: object"
            ]
          },
          "metadata": {},
          "execution_count": 105
        }
      ]
    },
    {
      "cell_type": "code",
      "source": [
        "max_len = len(max(data['Tweet'], key=len))\n",
        "print(\"Maximum length of Tweet:\",max_len)"
      ],
      "metadata": {
        "id": "993d9zHUdk24",
        "colab": {
          "base_uri": "https://localhost:8080/"
        },
        "outputId": "b6daef0b-8125-4362-c356-eaa4d1934d0a"
      },
      "execution_count": 106,
      "outputs": [
        {
          "output_type": "stream",
          "name": "stdout",
          "text": [
            "Maximum length of Tweet: 276\n"
          ]
        }
      ]
    },
    {
      "cell_type": "code",
      "source": [
        "import nltk\n",
        "nltk.download('omw-1.4')\n",
        "nltk.download('wordnet')\n",
        "from nltk.stem import WordNetLemmatizer\n",
        "from nltk.tokenize import word_tokenize"
      ],
      "metadata": {
        "id": "rz5nkFLNdoFh",
        "colab": {
          "base_uri": "https://localhost:8080/"
        },
        "outputId": "880db114-bf49-4485-8b10-90d950b65e6a"
      },
      "execution_count": 107,
      "outputs": [
        {
          "output_type": "stream",
          "name": "stderr",
          "text": [
            "[nltk_data] Downloading package omw-1.4 to /root/nltk_data...\n",
            "[nltk_data]   Package omw-1.4 is already up-to-date!\n",
            "[nltk_data] Downloading package wordnet to /root/nltk_data...\n",
            "[nltk_data]   Package wordnet is already up-to-date!\n"
          ]
        }
      ]
    },
    {
      "cell_type": "code",
      "source": [
        "tokenizer = nltk.tokenize.WhitespaceTokenizer()\n",
        "lemmatizer = WordNetLemmatizer()\n",
        "def lemmatize_tweets(tweets):\n",
        "    temp = \"\"\n",
        "    for w in tokenizer.tokenize(tweets):\n",
        "      temp = temp + lemmatizer.lemmatize(w) +\" \" \n",
        "    return temp\n",
        "data['Tweet'] = data['Tweet'].apply(lambda x: lemmatize_tweets(x))"
      ],
      "metadata": {
        "id": "cd2ZTNvmdswg"
      },
      "execution_count": 108,
      "outputs": []
    },
    {
      "cell_type": "code",
      "source": [
        "from nltk.stem.porter import PorterStemmer\n",
        "stemmer= PorterStemmer()\n",
        "\n",
        "def stem_tweets(tweets):\n",
        "    temp = \"\"\n",
        "    for w in tokenizer.tokenize(tweets):\n",
        "      temp = temp + stemmer.stem(w) +\" \" \n",
        "    return temp\n",
        "data['Tweet'] = data['Tweet'].apply(lambda x: stem_tweets(x))"
      ],
      "metadata": {
        "id": "vOhxe2X9dvLo"
      },
      "execution_count": 109,
      "outputs": []
    },
    {
      "cell_type": "code",
      "source": [
        "x = data['Tweet']\n",
        "y = data['Label']"
      ],
      "metadata": {
        "id": "O46PeVRod2Us"
      },
      "execution_count": 110,
      "outputs": []
    },
    {
      "cell_type": "code",
      "source": [
        "!pip install tensorflow"
      ],
      "metadata": {
        "colab": {
          "base_uri": "https://localhost:8080/"
        },
        "id": "PLalvWKeeAMI",
        "outputId": "880b43f5-e5f8-4926-e66d-a92fd74721ce"
      },
      "execution_count": 111,
      "outputs": [
        {
          "output_type": "stream",
          "name": "stdout",
          "text": [
            "Looking in indexes: https://pypi.org/simple, https://us-python.pkg.dev/colab-wheels/public/simple/\n",
            "Requirement already satisfied: tensorflow in /usr/local/lib/python3.8/dist-packages (2.11.0)\n",
            "Requirement already satisfied: grpcio<2.0,>=1.24.3 in /usr/local/lib/python3.8/dist-packages (from tensorflow) (1.51.1)\n",
            "Requirement already satisfied: tensorflow-io-gcs-filesystem>=0.23.1 in /usr/local/lib/python3.8/dist-packages (from tensorflow) (0.30.0)\n",
            "Requirement already satisfied: flatbuffers>=2.0 in /usr/local/lib/python3.8/dist-packages (from tensorflow) (23.1.21)\n",
            "Requirement already satisfied: gast<=0.4.0,>=0.2.1 in /usr/local/lib/python3.8/dist-packages (from tensorflow) (0.4.0)\n",
            "Requirement already satisfied: termcolor>=1.1.0 in /usr/local/lib/python3.8/dist-packages (from tensorflow) (2.2.0)\n",
            "Requirement already satisfied: packaging in /usr/local/lib/python3.8/dist-packages (from tensorflow) (23.0)\n",
            "Requirement already satisfied: h5py>=2.9.0 in /usr/local/lib/python3.8/dist-packages (from tensorflow) (3.1.0)\n",
            "Requirement already satisfied: tensorboard<2.12,>=2.11 in /usr/local/lib/python3.8/dist-packages (from tensorflow) (2.11.2)\n",
            "Requirement already satisfied: numpy>=1.20 in /usr/local/lib/python3.8/dist-packages (from tensorflow) (1.21.6)\n",
            "Requirement already satisfied: libclang>=13.0.0 in /usr/local/lib/python3.8/dist-packages (from tensorflow) (15.0.6.1)\n",
            "Requirement already satisfied: six>=1.12.0 in /usr/local/lib/python3.8/dist-packages (from tensorflow) (1.15.0)\n",
            "Requirement already satisfied: absl-py>=1.0.0 in /usr/local/lib/python3.8/dist-packages (from tensorflow) (1.4.0)\n",
            "Requirement already satisfied: opt-einsum>=2.3.2 in /usr/local/lib/python3.8/dist-packages (from tensorflow) (3.3.0)\n",
            "Requirement already satisfied: setuptools in /usr/local/lib/python3.8/dist-packages (from tensorflow) (57.4.0)\n",
            "Requirement already satisfied: keras<2.12,>=2.11.0 in /usr/local/lib/python3.8/dist-packages (from tensorflow) (2.11.0)\n",
            "Requirement already satisfied: google-pasta>=0.1.1 in /usr/local/lib/python3.8/dist-packages (from tensorflow) (0.2.0)\n",
            "Requirement already satisfied: typing-extensions>=3.6.6 in /usr/local/lib/python3.8/dist-packages (from tensorflow) (4.5.0)\n",
            "Requirement already satisfied: tensorflow-estimator<2.12,>=2.11.0 in /usr/local/lib/python3.8/dist-packages (from tensorflow) (2.11.0)\n",
            "Requirement already satisfied: protobuf<3.20,>=3.9.2 in /usr/local/lib/python3.8/dist-packages (from tensorflow) (3.19.6)\n",
            "Requirement already satisfied: wrapt>=1.11.0 in /usr/local/lib/python3.8/dist-packages (from tensorflow) (1.14.1)\n",
            "Requirement already satisfied: astunparse>=1.6.0 in /usr/local/lib/python3.8/dist-packages (from tensorflow) (1.6.3)\n",
            "Requirement already satisfied: wheel<1.0,>=0.23.0 in /usr/local/lib/python3.8/dist-packages (from astunparse>=1.6.0->tensorflow) (0.38.4)\n",
            "Requirement already satisfied: tensorboard-data-server<0.7.0,>=0.6.0 in /usr/local/lib/python3.8/dist-packages (from tensorboard<2.12,>=2.11->tensorflow) (0.6.1)\n",
            "Requirement already satisfied: requests<3,>=2.21.0 in /usr/local/lib/python3.8/dist-packages (from tensorboard<2.12,>=2.11->tensorflow) (2.25.1)\n",
            "Requirement already satisfied: werkzeug>=1.0.1 in /usr/local/lib/python3.8/dist-packages (from tensorboard<2.12,>=2.11->tensorflow) (1.0.1)\n",
            "Requirement already satisfied: tensorboard-plugin-wit>=1.6.0 in /usr/local/lib/python3.8/dist-packages (from tensorboard<2.12,>=2.11->tensorflow) (1.8.1)\n",
            "Requirement already satisfied: google-auth<3,>=1.6.3 in /usr/local/lib/python3.8/dist-packages (from tensorboard<2.12,>=2.11->tensorflow) (2.16.0)\n",
            "Requirement already satisfied: google-auth-oauthlib<0.5,>=0.4.1 in /usr/local/lib/python3.8/dist-packages (from tensorboard<2.12,>=2.11->tensorflow) (0.4.6)\n",
            "Requirement already satisfied: markdown>=2.6.8 in /usr/local/lib/python3.8/dist-packages (from tensorboard<2.12,>=2.11->tensorflow) (3.4.1)\n",
            "Requirement already satisfied: rsa<5,>=3.1.4 in /usr/local/lib/python3.8/dist-packages (from google-auth<3,>=1.6.3->tensorboard<2.12,>=2.11->tensorflow) (4.9)\n",
            "Requirement already satisfied: pyasn1-modules>=0.2.1 in /usr/local/lib/python3.8/dist-packages (from google-auth<3,>=1.6.3->tensorboard<2.12,>=2.11->tensorflow) (0.2.8)\n",
            "Requirement already satisfied: cachetools<6.0,>=2.0.0 in /usr/local/lib/python3.8/dist-packages (from google-auth<3,>=1.6.3->tensorboard<2.12,>=2.11->tensorflow) (5.3.0)\n",
            "Requirement already satisfied: requests-oauthlib>=0.7.0 in /usr/local/lib/python3.8/dist-packages (from google-auth-oauthlib<0.5,>=0.4.1->tensorboard<2.12,>=2.11->tensorflow) (1.3.1)\n",
            "Requirement already satisfied: importlib-metadata>=4.4 in /usr/local/lib/python3.8/dist-packages (from markdown>=2.6.8->tensorboard<2.12,>=2.11->tensorflow) (6.0.0)\n",
            "Requirement already satisfied: urllib3<1.27,>=1.21.1 in /usr/local/lib/python3.8/dist-packages (from requests<3,>=2.21.0->tensorboard<2.12,>=2.11->tensorflow) (1.24.3)\n",
            "Requirement already satisfied: certifi>=2017.4.17 in /usr/local/lib/python3.8/dist-packages (from requests<3,>=2.21.0->tensorboard<2.12,>=2.11->tensorflow) (2022.12.7)\n",
            "Requirement already satisfied: idna<3,>=2.5 in /usr/local/lib/python3.8/dist-packages (from requests<3,>=2.21.0->tensorboard<2.12,>=2.11->tensorflow) (2.10)\n",
            "Requirement already satisfied: chardet<5,>=3.0.2 in /usr/local/lib/python3.8/dist-packages (from requests<3,>=2.21.0->tensorboard<2.12,>=2.11->tensorflow) (4.0.0)\n",
            "Requirement already satisfied: zipp>=0.5 in /usr/local/lib/python3.8/dist-packages (from importlib-metadata>=4.4->markdown>=2.6.8->tensorboard<2.12,>=2.11->tensorflow) (3.13.0)\n",
            "Requirement already satisfied: pyasn1<0.5.0,>=0.4.6 in /usr/local/lib/python3.8/dist-packages (from pyasn1-modules>=0.2.1->google-auth<3,>=1.6.3->tensorboard<2.12,>=2.11->tensorflow) (0.4.8)\n",
            "Requirement already satisfied: oauthlib>=3.0.0 in /usr/local/lib/python3.8/dist-packages (from requests-oauthlib>=0.7.0->google-auth-oauthlib<0.5,>=0.4.1->tensorboard<2.12,>=2.11->tensorflow) (3.2.2)\n"
          ]
        }
      ]
    },
    {
      "cell_type": "code",
      "source": [
        "from tensorflow.keras.preprocessing.text import Tokenizer\n",
        "from tensorflow.keras.preprocessing.sequence import pad_sequences\n",
        "from gensim.models import word2vec\n",
        "from keras.models import Sequential,Model\n",
        "from keras.layers import Dense,MaxPooling1D, AveragePooling1D, GlobalMaxPooling1D,GlobalAveragePooling1D,Concatenate,Input\n",
        "from keras.layers import Embedding, LSTM, Flatten, Dropout, Conv1D\n",
        "from tensorflow.keras.callbacks import EarlyStopping\n",
        "from tensorflow.keras.optimizers import SGD, Adam,Adadelta\n",
        "from tensorflow.keras.losses import CategoricalCrossentropy\n",
        "from tensorflow.keras import regularizers\n",
        "from sklearn.metrics import f1_score\n",
        "import tensorflow as tf\n",
        "from keras.utils import plot_model"
      ],
      "metadata": {
        "id": "Bpffxr-weH5V"
      },
      "execution_count": 112,
      "outputs": []
    },
    {
      "cell_type": "code",
      "source": [
        "tokenizer = Tokenizer()\n",
        "tokenizer.fit_on_texts(x)\n",
        "vocab_length = len(tokenizer.word_index)+1\n",
        "print(\"Length of Word Index:\",vocab_length)\n",
        "X = tokenizer.texts_to_sequences(x)\n",
        "#encoded_sequence = [one_hot(s, vocab_length) for s in x ]\n",
        "#print(encoded_sequence )\n",
        "X = pad_sequences(X,maxlen = max_len, padding='post')"
      ],
      "metadata": {
        "colab": {
          "base_uri": "https://localhost:8080/"
        },
        "id": "LcbB2DYweNkT",
        "outputId": "132287a8-56b4-45a0-f7c3-63015e74a9b9"
      },
      "execution_count": 113,
      "outputs": [
        {
          "output_type": "stream",
          "name": "stdout",
          "text": [
            "Length of Word Index: 37620\n"
          ]
        }
      ]
    },
    {
      "cell_type": "code",
      "source": [
        "from tensorflow.keras.utils import to_categorical\n",
        "y = to_categorical(y)"
      ],
      "metadata": {
        "id": "K0OXF3EceUIO"
      },
      "execution_count": 114,
      "outputs": []
    },
    {
      "cell_type": "code",
      "source": [
        "num_features = 300  # Word vector dimensionality                      \n",
        "min_word_count = 5   # Minimum word count                        \n",
        "num_workers = 4       # Number of threads to run in parallel\n",
        "context = 10          # Context window size                                                                                    \n",
        "\n",
        "w2v_model = word2vec.Word2Vec(data['Tweet'], workers=num_workers, \n",
        "            size=num_features, min_count = min_word_count, \n",
        "            window = context)\n",
        "\n",
        "w2v_model.init_sims(replace=True)"
      ],
      "metadata": {
        "colab": {
          "base_uri": "https://localhost:8080/"
        },
        "id": "5DnUWWMuewQG",
        "outputId": "78f2693e-5c3c-437f-c423-1bf286e8ed34"
      },
      "execution_count": 115,
      "outputs": [
        {
          "output_type": "stream",
          "name": "stderr",
          "text": [
            "WARNING:gensim.models.word2vec:Each 'sentences' item should be a list of words (usually unicode strings). First item here is instead plain <class 'str'>.\n"
          ]
        }
      ]
    },
    {
      "cell_type": "code",
      "source": [
        "embedding_dim = 300\n",
        "batch_size = 64\n",
        "#drop_out = 0.5\n",
        "num_epochs = 10"
      ],
      "metadata": {
        "id": "qxcEUKWKeWwn"
      },
      "execution_count": 116,
      "outputs": []
    },
    {
      "cell_type": "code",
      "source": [
        "from numpy import zeros\n",
        "embedding_matrix = zeros((vocab_length, 300))\n",
        "\n",
        "for word, i in tokenizer.word_index.items():\n",
        "    # check if the word is in the word2vec vocab\n",
        "    if word in w2v_model.wv:\n",
        "        embedding_vector = w2v_model.wv[word]\n",
        "        \n",
        "        if embedding_vector is not None:\n",
        "            embedding_matrix[i] = embedding_vector"
      ],
      "metadata": {
        "id": "jVTXHfGte4MQ"
      },
      "execution_count": 117,
      "outputs": []
    },
    {
      "cell_type": "code",
      "source": [
        "from sklearn.model_selection import train_test_split"
      ],
      "metadata": {
        "id": "P3wmmSnxincs"
      },
      "execution_count": 118,
      "outputs": []
    },
    {
      "cell_type": "code",
      "source": [
        "X_train, X_rem, y_train, y_rem = train_test_split(X,y, train_size=0.7, shuffle=True,random_state=42,stratify=y)\n",
        "X_val, X_test, y_val, y_test = train_test_split(X_rem,y_rem, test_size=0.5,shuffle=True,random_state=42,stratify=y_rem)"
      ],
      "metadata": {
        "id": "NIPos7qlfO2t"
      },
      "execution_count": 119,
      "outputs": []
    },
    {
      "cell_type": "code",
      "source": [
        "X_val.shape"
      ],
      "metadata": {
        "colab": {
          "base_uri": "https://localhost:8080/"
        },
        "id": "kwf3b_gdfYA5",
        "outputId": "91f917df-51b7-4a80-d3da-aecce8b50720"
      },
      "execution_count": 120,
      "outputs": [
        {
          "output_type": "execute_result",
          "data": {
            "text/plain": [
              "(19457, 276)"
            ]
          },
          "metadata": {},
          "execution_count": 120
        }
      ]
    },
    {
      "cell_type": "code",
      "source": [
        "X_test.shape"
      ],
      "metadata": {
        "colab": {
          "base_uri": "https://localhost:8080/"
        },
        "id": "tJk24R_Drl-M",
        "outputId": "7767ee86-f912-4aa0-9830-996a909ed178"
      },
      "execution_count": 121,
      "outputs": [
        {
          "output_type": "execute_result",
          "data": {
            "text/plain": [
              "(19458, 276)"
            ]
          },
          "metadata": {},
          "execution_count": 121
        }
      ]
    },
    {
      "cell_type": "code",
      "source": [
        "X_train.shape"
      ],
      "metadata": {
        "colab": {
          "base_uri": "https://localhost:8080/"
        },
        "id": "ZeaI3hd0rorN",
        "outputId": "7f4eb99d-ba02-4181-9a20-afed553e2078"
      },
      "execution_count": 122,
      "outputs": [
        {
          "output_type": "execute_result",
          "data": {
            "text/plain": [
              "(90800, 276)"
            ]
          },
          "metadata": {},
          "execution_count": 122
        }
      ]
    },
    {
      "cell_type": "code",
      "source": [
        "embedding_matrix.shape"
      ],
      "metadata": {
        "colab": {
          "base_uri": "https://localhost:8080/"
        },
        "id": "MsehRywbrrXf",
        "outputId": "8fa412a3-8f5e-403f-d1d6-8c9c20a59d87"
      },
      "execution_count": 123,
      "outputs": [
        {
          "output_type": "execute_result",
          "data": {
            "text/plain": [
              "(37620, 300)"
            ]
          },
          "metadata": {},
          "execution_count": 123
        }
      ]
    },
    {
      "cell_type": "code",
      "source": [],
      "metadata": {
        "id": "6ys_VT0o1Mos"
      },
      "execution_count": 123,
      "outputs": []
    },
    {
      "cell_type": "code",
      "source": [
        "model = Sequential()\n",
        "e = Embedding(vocab_length,300, weights=[embedding_matrix], input_length=max_len)\n",
        "model.add(e)\n",
        "model.add(Conv1D(128, 1, activation='relu',kernel_regularizer=regularizers.l2(0.00001)))\n",
        "model.add(Conv1D(128, 2, activation='relu',kernel_regularizer=regularizers.l2(0.00001)))\n",
        "model.add(Conv1D(128, 3, activation='relu',kernel_regularizer=regularizers.l2(0.00001)))\n",
        "model.add(Conv1D(128, 4, activation='relu',kernel_regularizer=regularizers.l2(0.00001)))\n",
        "model.add(MaxPooling1D(pool_size=3, strides=2))\n",
        "model.add(Dropout(0.5))\n",
        "model.add(Flatten())\n",
        "model.add(Dense(5, activation='softmax'))\n",
        "\n",
        "model.summary()\n",
        "# compile the model\n",
        "opt = Adam(learning_rate=0.0001)\n",
        "model.compile(optimizer=opt,loss = CategoricalCrossentropy(from_logits=False), metrics=['accuracy'])\n",
        "\n",
        "early_stopping = EarlyStopping(monitor='val_loss', patience=5, mode='min')\n",
        "\n",
        "history = model.fit(X_train, y_train, validation_data=(X_val, y_val),epochs=30, verbose=1,\n",
        "                callbacks=[early_stopping])"
      ],
      "metadata": {
        "colab": {
          "base_uri": "https://localhost:8080/"
        },
        "id": "VSgX0SPbPulC",
        "outputId": "7d9d4073-b34c-4dd1-dafe-c48ae9cb34c1"
      },
      "execution_count": 125,
      "outputs": [
        {
          "output_type": "stream",
          "name": "stdout",
          "text": [
            "Model: \"sequential_5\"\n",
            "_________________________________________________________________\n",
            " Layer (type)                Output Shape              Param #   \n",
            "=================================================================\n",
            " embedding_5 (Embedding)     (None, 276, 300)          11286000  \n",
            "                                                                 \n",
            " conv1d_12 (Conv1D)          (None, 276, 128)          38528     \n",
            "                                                                 \n",
            " conv1d_13 (Conv1D)          (None, 275, 128)          32896     \n",
            "                                                                 \n",
            " conv1d_14 (Conv1D)          (None, 273, 128)          49280     \n",
            "                                                                 \n",
            " conv1d_15 (Conv1D)          (None, 270, 128)          65664     \n",
            "                                                                 \n",
            " max_pooling1d_12 (MaxPoolin  (None, 134, 128)         0         \n",
            " g1D)                                                            \n",
            "                                                                 \n",
            " dropout_3 (Dropout)         (None, 134, 128)          0         \n",
            "                                                                 \n",
            " flatten_12 (Flatten)        (None, 17152)             0         \n",
            "                                                                 \n",
            " dense_6 (Dense)             (None, 5)                 85765     \n",
            "                                                                 \n",
            "=================================================================\n",
            "Total params: 11,558,133\n",
            "Trainable params: 11,558,133\n",
            "Non-trainable params: 0\n",
            "_________________________________________________________________\n",
            "Epoch 1/30\n",
            "2838/2838 [==============================] - 56s 18ms/step - loss: 0.8960 - accuracy: 0.6529 - val_loss: 0.6534 - val_accuracy: 0.7589\n",
            "Epoch 2/30\n",
            "2838/2838 [==============================] - 36s 13ms/step - loss: 0.5759 - accuracy: 0.7936 - val_loss: 0.5741 - val_accuracy: 0.7890\n",
            "Epoch 3/30\n",
            "2838/2838 [==============================] - 35s 12ms/step - loss: 0.4816 - accuracy: 0.8325 - val_loss: 0.5570 - val_accuracy: 0.8073\n",
            "Epoch 4/30\n",
            "2838/2838 [==============================] - 37s 13ms/step - loss: 0.4055 - accuracy: 0.8622 - val_loss: 0.5342 - val_accuracy: 0.8207\n",
            "Epoch 5/30\n",
            "2838/2838 [==============================] - 36s 13ms/step - loss: 0.3482 - accuracy: 0.8825 - val_loss: 0.5484 - val_accuracy: 0.8225\n",
            "Epoch 6/30\n",
            "2838/2838 [==============================] - 34s 12ms/step - loss: 0.3126 - accuracy: 0.8943 - val_loss: 0.5659 - val_accuracy: 0.8209\n",
            "Epoch 7/30\n",
            "2838/2838 [==============================] - 34s 12ms/step - loss: 0.2850 - accuracy: 0.9032 - val_loss: 0.5846 - val_accuracy: 0.8204\n",
            "Epoch 8/30\n",
            "2838/2838 [==============================] - 34s 12ms/step - loss: 0.2620 - accuracy: 0.9111 - val_loss: 0.6305 - val_accuracy: 0.8185\n",
            "Epoch 9/30\n",
            "2838/2838 [==============================] - 34s 12ms/step - loss: 0.2443 - accuracy: 0.9169 - val_loss: 0.6349 - val_accuracy: 0.8161\n"
          ]
        }
      ]
    },
    {
      "cell_type": "code",
      "source": [
        "#print model\n",
        "plot_model(model, show_shapes=True)"
      ],
      "metadata": {
        "colab": {
          "base_uri": "https://localhost:8080/",
          "height": 1000
        },
        "id": "2REp07-ytmQh",
        "outputId": "e21126e6-405a-4594-9605-4a4e2573671f"
      },
      "execution_count": 126,
      "outputs": [
        {
          "output_type": "execute_result",
          "data": {
            "image/png": "[encoded data removed]",
            "text/plain": [
              "<IPython.core.display.Image object>"
            ]
          },
          "metadata": {},
          "execution_count": 126
        }
      ]
    },
    {
      "cell_type": "code",
      "source": [
        "import matplotlib.pyplot as plt\n",
        "from sklearn.metrics import confusion_matrix\n",
        "from sklearn.metrics import classification_report\n",
        "from sklearn.metrics import accuracy_score\n",
        "\n",
        "def show_train_history(train_history,train,validation):\n",
        "    plt.plot(train_history.history.history[train])\n",
        "    plt.plot(train_history.history.history[validation])\n",
        "    plt.title('Train History')\n",
        "    plt.ylabel(train)\n",
        "    plt.xlabel('Epoch')\n",
        "    plt.legend(['train', 'validation'], loc='upper left')\n",
        "    plt.show()\n",
        "\n",
        "show_train_history(model,'accuracy','val_accuracy')\n",
        "show_train_history(model,'loss','val_loss') \n",
        "acc = model.history.history['accuracy']\n",
        "val_acc = model.history.history['val_accuracy']\n",
        "loss = model.history.history['loss']\n",
        "val_loss = model.history.history['val_loss']\n",
        "print(f\"Accuracy on training data is:- {acc[-1]*100} %\")\n",
        "print(f\"Loss {loss[-1]*100}\")\n",
        "print(f\"Accuracy on validation data is:- {val_acc[-1]*100} %\")\n",
        "print(f\"Loss {val_loss[-1]*100}\")"
      ],
      "metadata": {
        "colab": {
          "base_uri": "https://localhost:8080/",
          "height": 642
        },
        "id": "zlE1FIpohHxh",
        "outputId": "d2cc815f-7974-49c0-efa0-ea7f4aa4cd1a"
      },
      "execution_count": 127,
      "outputs": [
        {
          "output_type": "display_data",
          "data": {
            "text/plain": [
              "<Figure size 432x288 with 1 Axes>"
            ],
            "image/png": "[encoded data removed]"
          },
          "metadata": {
            "needs_background": "light"
          }
        },
        {
          "output_type": "display_data",
          "data": {
            "text/plain": [
              "<Figure size 432x288 with 1 Axes>"
            ],
            "image/png": "[encoded data removed]"
          },
          "metadata": {
            "needs_background": "light"
          }
        },
        {
          "output_type": "stream",
          "name": "stdout",
          "text": [
            "Accuracy on training data is:- 91.69493317604065 %\n",
            "Loss 24.425378441810608\n",
            "Accuracy on validation data is:- 81.60558938980103 %\n",
            "Loss 63.48509192466736\n"
          ]
        }
      ]
    },
    {
      "cell_type": "code",
      "source": [
        "pred = np.argmax(model.predict(X_test), axis =1)\n",
        "slabels=np.argmax(y_test, axis=1)\n",
        "print(\"F1-score of Model:\",f1_score(slabels,pred, average='macro'))\n",
        "print(classification_report(slabels,pred))"
      ],
      "metadata": {
        "colab": {
          "base_uri": "https://localhost:8080/"
        },
        "id": "rvAagmNdhM1z",
        "outputId": "677904e8-2aaa-454a-e406-cef28da73b5f"
      },
      "execution_count": 128,
      "outputs": [
        {
          "output_type": "stream",
          "name": "stdout",
          "text": [
            "609/609 [==============================] - 2s 3ms/step\n",
            "F1-score of Model: 0.7725664041944678\n",
            "              precision    recall  f1-score   support\n",
            "\n",
            "           0       0.88      0.89      0.88      6711\n",
            "           1       0.84      0.82      0.83      5939\n",
            "           2       0.73      0.72      0.72      2661\n",
            "           3       0.78      0.77      0.78      2648\n",
            "           4       0.63      0.67      0.65      1499\n",
            "\n",
            "    accuracy                           0.81     19458\n",
            "   macro avg       0.77      0.77      0.77     19458\n",
            "weighted avg       0.81      0.81      0.81     19458\n",
            "\n"
          ]
        }
      ]
    }
  ]
}