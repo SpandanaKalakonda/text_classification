{
  "nbformat": 4,
  "nbformat_minor": 0,
  "metadata": {
    "colab": {
      "provenance": []
    },
    "kernelspec": {
      "name": "python3",
      "display_name": "Python 3"
    },
    "language_info": {
      "name": "python"
    },
    "accelerator": "GPU",
    "gpuClass": "standard"
  },
  "cells": [
    {
      "cell_type": "code",
      "execution_count": null,
      "metadata": {
        "id": "A2TmitpMdJrO"
      },
      "outputs": [],
      "source": [
        "import pandas as pd\n",
        "import numpy as np"
      ]
    },
    {
      "cell_type": "code",
      "source": [
        "d1 = pd.read_csv(\"/content/flabel12.csv\")\n",
        "d2 = pd.read_csv(\"/content/dataairport1.csv\")\n",
        "d3 = pd.read_csv(\"/content/datachruch1.csv\")\n",
        "d4 = pd.read_csv(\"/content/datahospital1.csv\")\n",
        "d5 = pd.read_csv(\"/content/datarestaurant.csv\")\n",
        "d6 = pd.read_csv(\"/content/datazoo1.csv\")\n",
        "data = pd.concat([d1,d3,d4,d5,d6])\n",
        "data.shape"
      ],
      "metadata": {
        "id": "Q4I1gdOvdNEH",
        "colab": {
          "base_uri": "https://localhost:8080/"
        },
        "outputId": "71300d3b-214c-4051-8690-81338ea4bbda"
      },
      "execution_count": null,
      "outputs": [
        {
          "output_type": "execute_result",
          "data": {
            "text/plain": [
              "(131625, 5)"
            ]
          },
          "metadata": {},
          "execution_count": 2
        }
      ]
    },
    {
      "cell_type": "code",
      "source": [
        "data.drop_duplicates(subset=['Tweet'], inplace = True)\n",
        "print(\"No of Unique tweets: \", data['Tweet'].count())"
      ],
      "metadata": {
        "id": "bvGyZi7adWMn",
        "colab": {
          "base_uri": "https://localhost:8080/"
        },
        "outputId": "27e677a0-e813-46a2-eee1-84e2e0eba417"
      },
      "execution_count": null,
      "outputs": [
        {
          "output_type": "stream",
          "name": "stdout",
          "text": [
            "No of Unique tweets:  129715\n"
          ]
        }
      ]
    },
    {
      "cell_type": "code",
      "source": [
        "import nltk\n",
        "import re, string\n",
        "from nltk.corpus import stopwords\n",
        "nltk.download('stopwords')\n",
        "stopword = stopwords.words('english')\n",
        "print(\"Stopwords:\",stopword)"
      ],
      "metadata": {
        "id": "UHhf4rOHdYrv",
        "colab": {
          "base_uri": "https://localhost:8080/"
        },
        "outputId": "f313aea1-67c7-4c95-ab1d-059bce11c347"
      },
      "execution_count": null,
      "outputs": [
        {
          "output_type": "stream",
          "name": "stdout",
          "text": [
            "Stopwords: ['i', 'me', 'my', 'myself', 'we', 'our', 'ours', 'ourselves', 'you', \"you're\", \"you've\", \"you'll\", \"you'd\", 'your', 'yours', 'yourself', 'yourselves', 'he', 'him', 'his', 'himself', 'she', \"she's\", 'her', 'hers', 'herself', 'it', \"it's\", 'its', 'itself', 'they', 'them', 'their', 'theirs', 'themselves', 'what', 'which', 'who', 'whom', 'this', 'that', \"that'll\", 'these', 'those', 'am', 'is', 'are', 'was', 'were', 'be', 'been', 'being', 'have', 'has', 'had', 'having', 'do', 'does', 'did', 'doing', 'a', 'an', 'the', 'and', 'but', 'if', 'or', 'because', 'as', 'until', 'while', 'of', 'at', 'by', 'for', 'with', 'about', 'against', 'between', 'into', 'through', 'during', 'before', 'after', 'above', 'below', 'to', 'from', 'up', 'down', 'in', 'out', 'on', 'off', 'over', 'under', 'again', 'further', 'then', 'once', 'here', 'there', 'when', 'where', 'why', 'how', 'all', 'any', 'both', 'each', 'few', 'more', 'most', 'other', 'some', 'such', 'no', 'nor', 'not', 'only', 'own', 'same', 'so', 'than', 'too', 'very', 's', 't', 'can', 'will', 'just', 'don', \"don't\", 'should', \"should've\", 'now', 'd', 'll', 'm', 'o', 're', 've', 'y', 'ain', 'aren', \"aren't\", 'couldn', \"couldn't\", 'didn', \"didn't\", 'doesn', \"doesn't\", 'hadn', \"hadn't\", 'hasn', \"hasn't\", 'haven', \"haven't\", 'isn', \"isn't\", 'ma', 'mightn', \"mightn't\", 'mustn', \"mustn't\", 'needn', \"needn't\", 'shan', \"shan't\", 'shouldn', \"shouldn't\", 'wasn', \"wasn't\", 'weren', \"weren't\", 'won', \"won't\", 'wouldn', \"wouldn't\"]\n"
          ]
        },
        {
          "output_type": "stream",
          "name": "stderr",
          "text": [
            "[nltk_data] Downloading package stopwords to /root/nltk_data...\n",
            "[nltk_data]   Unzipping corpora/stopwords.zip.\n"
          ]
        }
      ]
    },
    {
      "cell_type": "code",
      "source": [
        "def clean(text):\n",
        "    text = text.lower() # lower case\n",
        "    text = re.sub(r'https?://\\S+|www\\.\\S+', \" \", text)#URL\n",
        "    text = re.sub(r'@\\w+',' ',text) # mentions\n",
        "    text = re.sub(r'#\\w+', ' ', text) #hashtags\n",
        "    text= re.sub(r'[^\\w\\s]',' ',text) #punctuations\n",
        "    text= re.sub(r'\\d+', ' ', text) #digits\n",
        "    text = re.sub('\\[.*?\\]',' ', text) #any punctuations left\n",
        "    text = re.sub(\"[^a-z0-9]\",\" \", text)# any others charcters other than numbers and letters\n",
        "    text = text.split() #stopwords\n",
        "    text = \" \".join([word for word in text if not word in stopword])\n",
        "    return text"
      ],
      "metadata": {
        "id": "n8bbZyEHdd8Q"
      },
      "execution_count": null,
      "outputs": []
    },
    {
      "cell_type": "code",
      "source": [
        "data['Tweet'] = data['Tweet'].astype(str).apply(lambda x: clean(x))\n",
        "data['Tweet'].sample(5)"
      ],
      "metadata": {
        "id": "Z6rJS82ldhXY",
        "colab": {
          "base_uri": "https://localhost:8080/"
        },
        "outputId": "49591409-b5a8-4aad-bd3a-1e7a4afddfe5"
      },
      "execution_count": null,
      "outputs": [
        {
          "output_type": "execute_result",
          "data": {
            "text/plain": [
              "15911    adopted european chicken commitment yet chicke...\n",
              "4875     love happens open even tiffin box buy dada ste...\n",
              "4612     secret natural immunity found vritilife immune...\n",
              "14107                                           memphis tn\n",
              "3691                     policy procedure writing services\n",
              "Name: Tweet, dtype: object"
            ]
          },
          "metadata": {},
          "execution_count": 6
        }
      ]
    },
    {
      "cell_type": "code",
      "source": [
        "max_len = len(max(data['Tweet'], key=len))\n",
        "print(\"Maximum length of Tweet:\",max_len)"
      ],
      "metadata": {
        "id": "993d9zHUdk24",
        "colab": {
          "base_uri": "https://localhost:8080/"
        },
        "outputId": "ec40e88f-8a8c-4a16-f2d2-d08bf2947351"
      },
      "execution_count": null,
      "outputs": [
        {
          "output_type": "stream",
          "name": "stdout",
          "text": [
            "Maximum length of Tweet: 276\n"
          ]
        }
      ]
    },
    {
      "cell_type": "code",
      "source": [
        "import nltk\n",
        "nltk.download('omw-1.4')\n",
        "nltk.download('wordnet')\n",
        "from nltk.stem import WordNetLemmatizer\n",
        "from nltk.tokenize import word_tokenize"
      ],
      "metadata": {
        "id": "rz5nkFLNdoFh",
        "colab": {
          "base_uri": "https://localhost:8080/"
        },
        "outputId": "77b99b0b-b524-40e4-a7ef-4a3b51404f62"
      },
      "execution_count": null,
      "outputs": [
        {
          "output_type": "stream",
          "name": "stderr",
          "text": [
            "[nltk_data] Downloading package omw-1.4 to /root/nltk_data...\n",
            "[nltk_data] Downloading package wordnet to /root/nltk_data...\n"
          ]
        }
      ]
    },
    {
      "cell_type": "code",
      "source": [
        "tokenizer = nltk.tokenize.WhitespaceTokenizer()\n",
        "lemmatizer = WordNetLemmatizer()\n",
        "def lemmatize_tweets(tweets):\n",
        "    temp = \"\"\n",
        "    for w in tokenizer.tokenize(tweets):\n",
        "      temp = temp + lemmatizer.lemmatize(w) +\" \" \n",
        "    return temp\n",
        "data['Tweet'] = data['Tweet'].apply(lambda x: lemmatize_tweets(x))"
      ],
      "metadata": {
        "id": "cd2ZTNvmdswg"
      },
      "execution_count": null,
      "outputs": []
    },
    {
      "cell_type": "code",
      "source": [
        "from nltk.stem.porter import PorterStemmer\n",
        "stemmer= PorterStemmer()\n",
        "\n",
        "def stem_tweets(tweets):\n",
        "    temp = \"\"\n",
        "    for w in tokenizer.tokenize(tweets):\n",
        "      temp = temp + stemmer.stem(w) +\" \" \n",
        "    return temp\n",
        "data['Tweet'] = data['Tweet'].apply(lambda x: stem_tweets(x))"
      ],
      "metadata": {
        "id": "vOhxe2X9dvLo"
      },
      "execution_count": null,
      "outputs": []
    },
    {
      "cell_type": "code",
      "source": [
        "x = data['Tweet']\n",
        "y = data['Label']"
      ],
      "metadata": {
        "id": "O46PeVRod2Us"
      },
      "execution_count": null,
      "outputs": []
    },
    {
      "cell_type": "code",
      "source": [
        "!pip install tensorflow"
      ],
      "metadata": {
        "colab": {
          "base_uri": "https://localhost:8080/"
        },
        "id": "PLalvWKeeAMI",
        "outputId": "ce16ecf5-cb5e-47af-b2ef-44fd726434ad"
      },
      "execution_count": null,
      "outputs": [
        {
          "output_type": "stream",
          "name": "stdout",
          "text": [
            "Looking in indexes: https://pypi.org/simple, https://us-python.pkg.dev/colab-wheels/public/simple/\n",
            "Requirement already satisfied: tensorflow in /usr/local/lib/python3.9/dist-packages (2.12.0)\n",
            "Requirement already satisfied: numpy<1.24,>=1.22 in /usr/local/lib/python3.9/dist-packages (from tensorflow) (1.22.4)\n",
            "Requirement already satisfied: tensorflow-io-gcs-filesystem>=0.23.1 in /usr/local/lib/python3.9/dist-packages (from tensorflow) (0.32.0)\n",
            "Requirement already satisfied: six>=1.12.0 in /usr/local/lib/python3.9/dist-packages (from tensorflow) (1.16.0)\n",
            "Requirement already satisfied: opt-einsum>=2.3.2 in /usr/local/lib/python3.9/dist-packages (from tensorflow) (3.3.0)\n",
            "Requirement already satisfied: h5py>=2.9.0 in /usr/local/lib/python3.9/dist-packages (from tensorflow) (3.8.0)\n",
            "Requirement already satisfied: libclang>=13.0.0 in /usr/local/lib/python3.9/dist-packages (from tensorflow) (16.0.0)\n",
            "Requirement already satisfied: typing-extensions>=3.6.6 in /usr/local/lib/python3.9/dist-packages (from tensorflow) (4.5.0)\n",
            "Requirement already satisfied: termcolor>=1.1.0 in /usr/local/lib/python3.9/dist-packages (from tensorflow) (2.2.0)\n",
            "Requirement already satisfied: absl-py>=1.0.0 in /usr/local/lib/python3.9/dist-packages (from tensorflow) (1.4.0)\n",
            "Requirement already satisfied: protobuf!=4.21.0,!=4.21.1,!=4.21.2,!=4.21.3,!=4.21.4,!=4.21.5,<5.0.0dev,>=3.20.3 in /usr/local/lib/python3.9/dist-packages (from tensorflow) (3.20.3)\n",
            "Requirement already satisfied: google-pasta>=0.1.1 in /usr/local/lib/python3.9/dist-packages (from tensorflow) (0.2.0)\n",
            "Requirement already satisfied: setuptools in /usr/local/lib/python3.9/dist-packages (from tensorflow) (67.7.1)\n",
            "Requirement already satisfied: tensorboard<2.13,>=2.12 in /usr/local/lib/python3.9/dist-packages (from tensorflow) (2.12.2)\n",
            "Requirement already satisfied: gast<=0.4.0,>=0.2.1 in /usr/local/lib/python3.9/dist-packages (from tensorflow) (0.4.0)\n",
            "Requirement already satisfied: flatbuffers>=2.0 in /usr/local/lib/python3.9/dist-packages (from tensorflow) (23.3.3)\n",
            "Requirement already satisfied: packaging in /usr/local/lib/python3.9/dist-packages (from tensorflow) (23.1)\n",
            "Requirement already satisfied: wrapt<1.15,>=1.11.0 in /usr/local/lib/python3.9/dist-packages (from tensorflow) (1.14.1)\n",
            "Requirement already satisfied: astunparse>=1.6.0 in /usr/local/lib/python3.9/dist-packages (from tensorflow) (1.6.3)\n",
            "Requirement already satisfied: tensorflow-estimator<2.13,>=2.12.0 in /usr/local/lib/python3.9/dist-packages (from tensorflow) (2.12.0)\n",
            "Requirement already satisfied: keras<2.13,>=2.12.0 in /usr/local/lib/python3.9/dist-packages (from tensorflow) (2.12.0)\n",
            "Requirement already satisfied: jax>=0.3.15 in /usr/local/lib/python3.9/dist-packages (from tensorflow) (0.4.8)\n",
            "Requirement already satisfied: grpcio<2.0,>=1.24.3 in /usr/local/lib/python3.9/dist-packages (from tensorflow) (1.53.0)\n",
            "Requirement already satisfied: wheel<1.0,>=0.23.0 in /usr/local/lib/python3.9/dist-packages (from astunparse>=1.6.0->tensorflow) (0.40.0)\n",
            "Requirement already satisfied: ml-dtypes>=0.0.3 in /usr/local/lib/python3.9/dist-packages (from jax>=0.3.15->tensorflow) (0.1.0)\n",
            "Requirement already satisfied: scipy>=1.7 in /usr/local/lib/python3.9/dist-packages (from jax>=0.3.15->tensorflow) (1.10.1)\n",
            "Requirement already satisfied: tensorboard-plugin-wit>=1.6.0 in /usr/local/lib/python3.9/dist-packages (from tensorboard<2.13,>=2.12->tensorflow) (1.8.1)\n",
            "Requirement already satisfied: werkzeug>=1.0.1 in /usr/local/lib/python3.9/dist-packages (from tensorboard<2.13,>=2.12->tensorflow) (2.2.3)\n",
            "Requirement already satisfied: google-auth-oauthlib<1.1,>=0.5 in /usr/local/lib/python3.9/dist-packages (from tensorboard<2.13,>=2.12->tensorflow) (1.0.0)\n",
            "Requirement already satisfied: google-auth<3,>=1.6.3 in /usr/local/lib/python3.9/dist-packages (from tensorboard<2.13,>=2.12->tensorflow) (2.17.3)\n",
            "Requirement already satisfied: tensorboard-data-server<0.8.0,>=0.7.0 in /usr/local/lib/python3.9/dist-packages (from tensorboard<2.13,>=2.12->tensorflow) (0.7.0)\n",
            "Requirement already satisfied: markdown>=2.6.8 in /usr/local/lib/python3.9/dist-packages (from tensorboard<2.13,>=2.12->tensorflow) (3.4.3)\n",
            "Requirement already satisfied: requests<3,>=2.21.0 in /usr/local/lib/python3.9/dist-packages (from tensorboard<2.13,>=2.12->tensorflow) (2.27.1)\n",
            "Requirement already satisfied: cachetools<6.0,>=2.0.0 in /usr/local/lib/python3.9/dist-packages (from google-auth<3,>=1.6.3->tensorboard<2.13,>=2.12->tensorflow) (5.3.0)\n",
            "Requirement already satisfied: rsa<5,>=3.1.4 in /usr/local/lib/python3.9/dist-packages (from google-auth<3,>=1.6.3->tensorboard<2.13,>=2.12->tensorflow) (4.9)\n",
            "Requirement already satisfied: pyasn1-modules>=0.2.1 in /usr/local/lib/python3.9/dist-packages (from google-auth<3,>=1.6.3->tensorboard<2.13,>=2.12->tensorflow) (0.2.8)\n",
            "Requirement already satisfied: requests-oauthlib>=0.7.0 in /usr/local/lib/python3.9/dist-packages (from google-auth-oauthlib<1.1,>=0.5->tensorboard<2.13,>=2.12->tensorflow) (1.3.1)\n",
            "Requirement already satisfied: importlib-metadata>=4.4 in /usr/local/lib/python3.9/dist-packages (from markdown>=2.6.8->tensorboard<2.13,>=2.12->tensorflow) (6.4.1)\n",
            "Requirement already satisfied: certifi>=2017.4.17 in /usr/local/lib/python3.9/dist-packages (from requests<3,>=2.21.0->tensorboard<2.13,>=2.12->tensorflow) (2022.12.7)\n",
            "Requirement already satisfied: idna<4,>=2.5 in /usr/local/lib/python3.9/dist-packages (from requests<3,>=2.21.0->tensorboard<2.13,>=2.12->tensorflow) (3.4)\n",
            "Requirement already satisfied: charset-normalizer~=2.0.0 in /usr/local/lib/python3.9/dist-packages (from requests<3,>=2.21.0->tensorboard<2.13,>=2.12->tensorflow) (2.0.12)\n",
            "Requirement already satisfied: urllib3<1.27,>=1.21.1 in /usr/local/lib/python3.9/dist-packages (from requests<3,>=2.21.0->tensorboard<2.13,>=2.12->tensorflow) (1.26.15)\n",
            "Requirement already satisfied: MarkupSafe>=2.1.1 in /usr/local/lib/python3.9/dist-packages (from werkzeug>=1.0.1->tensorboard<2.13,>=2.12->tensorflow) (2.1.2)\n",
            "Requirement already satisfied: zipp>=0.5 in /usr/local/lib/python3.9/dist-packages (from importlib-metadata>=4.4->markdown>=2.6.8->tensorboard<2.13,>=2.12->tensorflow) (3.15.0)\n",
            "Requirement already satisfied: pyasn1<0.5.0,>=0.4.6 in /usr/local/lib/python3.9/dist-packages (from pyasn1-modules>=0.2.1->google-auth<3,>=1.6.3->tensorboard<2.13,>=2.12->tensorflow) (0.4.8)\n",
            "Requirement already satisfied: oauthlib>=3.0.0 in /usr/local/lib/python3.9/dist-packages (from requests-oauthlib>=0.7.0->google-auth-oauthlib<1.1,>=0.5->tensorboard<2.13,>=2.12->tensorflow) (3.2.2)\n"
          ]
        }
      ]
    },
    {
      "cell_type": "code",
      "source": [
        "from tensorflow.keras.preprocessing.text import Tokenizer\n",
        "from tensorflow.keras.preprocessing.sequence import pad_sequences\n",
        "from gensim.models import word2vec\n",
        "from keras.models import Sequential,Model\n",
        "from keras.layers import Dense,MaxPooling1D, AveragePooling1D, GlobalMaxPooling1D,GlobalAveragePooling1D,Concatenate,Input\n",
        "from keras.layers import Embedding, LSTM, Flatten, Dropout, Conv1D\n",
        "from tensorflow.keras.callbacks import EarlyStopping\n",
        "from tensorflow.keras.optimizers import SGD, Adam,Adadelta\n",
        "from tensorflow.keras.losses import CategoricalCrossentropy\n",
        "from tensorflow.keras import regularizers\n",
        "from sklearn.metrics import f1_score\n",
        "import tensorflow as tf"
      ],
      "metadata": {
        "id": "Bpffxr-weH5V"
      },
      "execution_count": null,
      "outputs": []
    },
    {
      "cell_type": "code",
      "source": [
        "tokenizer = Tokenizer()\n",
        "tokenizer.fit_on_texts(x)\n",
        "vocab_length = len(tokenizer.word_index)+1\n",
        "print(\"Length of Word Index:\",vocab_length)\n",
        "X = tokenizer.texts_to_sequences(x)\n",
        "#encoded_sequence = [one_hot(s, vocab_length) for s in x ]\n",
        "#print(encoded_sequence )\n",
        "X = pad_sequences(X,maxlen = max_len, padding='post')"
      ],
      "metadata": {
        "colab": {
          "base_uri": "https://localhost:8080/"
        },
        "id": "LcbB2DYweNkT",
        "outputId": "cb7f4931-9a18-4551-a3b9-6d634bedfffd"
      },
      "execution_count": null,
      "outputs": [
        {
          "output_type": "stream",
          "name": "stdout",
          "text": [
            "Length of Word Index: 37620\n"
          ]
        }
      ]
    },
    {
      "cell_type": "code",
      "source": [
        "from tensorflow.keras.utils import to_categorical\n",
        "y = to_categorical(y)"
      ],
      "metadata": {
        "id": "K0OXF3EceUIO"
      },
      "execution_count": null,
      "outputs": []
    },
    {
      "cell_type": "code",
      "source": [
        "num_features = 300   # Word vector dimensionality                      \n",
        "min_word_count = 5   # Minimum word count                        \n",
        "num_workers = 4       # Number of threads to run in parallel\n",
        "context = 10          # Context window size                                                                                    \n",
        "\n",
        "w2v_model = word2vec.Word2Vec(data['Tweet'], workers=num_workers, \n",
        "            vector_size=num_features, min_count = min_word_count, \n",
        "            window = context)\n",
        "\n",
        "w2v_model.init_sims(replace=True)"
      ],
      "metadata": {
        "colab": {
          "base_uri": "https://localhost:8080/"
        },
        "id": "5DnUWWMuewQG",
        "outputId": "5a58b4da-901c-469c-bc9b-d7f8c3b0afd5"
      },
      "execution_count": null,
      "outputs": [
        {
          "output_type": "stream",
          "name": "stderr",
          "text": [
            "WARNING:gensim.models.word2vec:Each 'sentences' item should be a list of words (usually unicode strings). First item here is instead plain <class 'str'>.\n",
            "<ipython-input-16-c8569a3a6ce3>:10: DeprecationWarning: Call to deprecated `init_sims` (Gensim 4.0.0 implemented internal optimizations that make calls to init_sims() unnecessary. init_sims() is now obsoleted and will be completely removed in future versions. See https://github.com/RaRe-Technologies/gensim/wiki/Migrating-from-Gensim-3.x-to-4).\n",
            "  w2v_model.init_sims(replace=True)\n",
            "WARNING:gensim.models.keyedvectors:destructive init_sims(replace=True) deprecated & no longer required for space-efficiency\n"
          ]
        }
      ]
    },
    {
      "cell_type": "code",
      "source": [
        "embedding_dim = max_len\n",
        "batch_size = 128\n",
        "#drop_out = 0.5\n",
        "num_epochs = 30"
      ],
      "metadata": {
        "id": "qxcEUKWKeWwn"
      },
      "execution_count": null,
      "outputs": []
    },
    {
      "cell_type": "code",
      "source": [
        "from numpy import zeros\n",
        "embedding_matrix = zeros((vocab_length, 300))\n",
        "\n",
        "for word, i in tokenizer.word_index.items():\n",
        "    # check if the word is in the word2vec vocab\n",
        "    if word in w2v_model.wv:\n",
        "        embedding_vector = w2v_model.wv[word]\n",
        "        \n",
        "        if embedding_vector is not None:\n",
        "            embedding_matrix[i] = embedding_vector"
      ],
      "metadata": {
        "id": "jVTXHfGte4MQ"
      },
      "execution_count": null,
      "outputs": []
    },
    {
      "cell_type": "code",
      "source": [
        "from sklearn.model_selection import train_test_split"
      ],
      "metadata": {
        "id": "P3wmmSnxincs"
      },
      "execution_count": null,
      "outputs": []
    },
    {
      "cell_type": "code",
      "source": [
        "X_train, X_test, y_train, y_test = train_test_split(X,y, train_size=0.70, shuffle=True,random_state=42,stratify=y)\n",
        "X_test, X_val, y_test, y_val = train_test_split(X_train,y_train, test_size=0.5,shuffle=True,random_state=42,stratify=y_train)"
      ],
      "metadata": {
        "id": "NIPos7qlfO2t"
      },
      "execution_count": null,
      "outputs": []
    },
    {
      "cell_type": "code",
      "source": [
        "X_val.shape\n"
      ],
      "metadata": {
        "colab": {
          "base_uri": "https://localhost:8080/"
        },
        "id": "kwf3b_gdfYA5",
        "outputId": "3fa679af-d83a-440d-f567-d91ff20eda3c"
      },
      "execution_count": null,
      "outputs": [
        {
          "output_type": "execute_result",
          "data": {
            "text/plain": [
              "(45400, 276)"
            ]
          },
          "metadata": {},
          "execution_count": 21
        }
      ]
    },
    {
      "cell_type": "code",
      "source": [
        "X_train.shape"
      ],
      "metadata": {
        "colab": {
          "base_uri": "https://localhost:8080/"
        },
        "id": "_SzhLpKBAp34",
        "outputId": "e575c6cf-1eb3-4279-ed50-be67f636a1f2"
      },
      "execution_count": null,
      "outputs": [
        {
          "output_type": "execute_result",
          "data": {
            "text/plain": [
              "(90800, 276)"
            ]
          },
          "metadata": {},
          "execution_count": 22
        }
      ]
    },
    {
      "cell_type": "code",
      "source": [
        "X_test.shape"
      ],
      "metadata": {
        "colab": {
          "base_uri": "https://localhost:8080/"
        },
        "id": "Ewjo13MFAqjH",
        "outputId": "962078f0-fb27-4663-fdc4-23d570a53ff9"
      },
      "execution_count": null,
      "outputs": [
        {
          "output_type": "execute_result",
          "data": {
            "text/plain": [
              "(45400, 276)"
            ]
          },
          "metadata": {},
          "execution_count": 23
        }
      ]
    },
    {
      "cell_type": "code",
      "source": [
        "embedding_matrix.shape"
      ],
      "metadata": {
        "colab": {
          "base_uri": "https://localhost:8080/"
        },
        "id": "Euv6gmOCAwQd",
        "outputId": "6d1dde72-b8b9-4616-b3ca-d5052e40cd92"
      },
      "execution_count": null,
      "outputs": [
        {
          "output_type": "execute_result",
          "data": {
            "text/plain": [
              "(37620, 300)"
            ]
          },
          "metadata": {},
          "execution_count": 24
        }
      ]
    },
    {
      "cell_type": "code",
      "source": [
        "model_input = Input(shape=(max_len, ))\n",
        "\n",
        "model = Sequential()\n",
        "e = Embedding(vocab_length,300, weights=[embedding_matrix], input_length=max_len)(model_input)\n",
        "\n",
        "filter_sizes =[1,2,3,4,5,6]\n",
        "num_filters = 128\n",
        "conv_blocks = []\n",
        "for sz in filter_sizes:\n",
        "    conv=Conv1D(filters=num_filters,kernel_size=sz, activation='relu',kernel_regularizer=regularizers.l2(0.000001))(e)\n",
        "    conv = MaxPooling1D(pool_size=2, strides =1 )(conv)\n",
        "    conv = Flatten()(conv)\n",
        "    conv_blocks.append(conv)\n",
        "\n",
        "z = Concatenate()(conv_blocks) if len(conv_blocks) > 1 else conv_blocks[0]\n",
        "# z = Dense(32, activation=\"sigmoid\")(z)\n",
        "z = Dropout(0.5)(z)\n",
        "model_output = Dense(5, activation=\"softmax\")(z)\n",
        "\n",
        "model = Model(model_input, model_output)\n",
        "model.summary()\n",
        "\n",
        "# compile the model\n",
        "opt = Adam(learning_rate=0.00001)\n",
        "model.compile(optimizer=opt,loss = CategoricalCrossentropy(from_logits=False), metrics=['accuracy'])\n",
        "\n",
        "early_stopping = EarlyStopping(monitor='val_loss', patience=5, mode='min')\n",
        "history = model.fit(X_train, y_train, validation_data=(X_val, y_val),epochs=30, verbose=1,\n",
        "               callbacks=[early_stopping])\n"
      ],
      "metadata": {
        "colab": {
          "base_uri": "https://localhost:8080/"
        },
        "id": "_B7W43YaZ2Mp",
        "outputId": "ae886719-4410-4498-cb58-6bb69db6fb13"
      },
      "execution_count": null,
      "outputs": [
        {
          "output_type": "stream",
          "name": "stdout",
          "text": [
            "Model: \"model\"\n",
            "__________________________________________________________________________________________________\n",
            " Layer (type)                   Output Shape         Param #     Connected to                     \n",
            "==================================================================================================\n",
            " input_1 (InputLayer)           [(None, 276)]        0           []                               \n",
            "                                                                                                  \n",
            " embedding (Embedding)          (None, 276, 300)     11286000    ['input_1[0][0]']                \n",
            "                                                                                                  \n",
            " conv1d (Conv1D)                (None, 276, 128)     38528       ['embedding[0][0]']              \n",
            "                                                                                                  \n",
            " conv1d_1 (Conv1D)              (None, 275, 128)     76928       ['embedding[0][0]']              \n",
            "                                                                                                  \n",
            " conv1d_2 (Conv1D)              (None, 274, 128)     115328      ['embedding[0][0]']              \n",
            "                                                                                                  \n",
            " conv1d_3 (Conv1D)              (None, 273, 128)     153728      ['embedding[0][0]']              \n",
            "                                                                                                  \n",
            " conv1d_4 (Conv1D)              (None, 272, 128)     192128      ['embedding[0][0]']              \n",
            "                                                                                                  \n",
            " conv1d_5 (Conv1D)              (None, 271, 128)     230528      ['embedding[0][0]']              \n",
            "                                                                                                  \n",
            " max_pooling1d (MaxPooling1D)   (None, 275, 128)     0           ['conv1d[0][0]']                 \n",
            "                                                                                                  \n",
            " max_pooling1d_1 (MaxPooling1D)  (None, 274, 128)    0           ['conv1d_1[0][0]']               \n",
            "                                                                                                  \n",
            " max_pooling1d_2 (MaxPooling1D)  (None, 273, 128)    0           ['conv1d_2[0][0]']               \n",
            "                                                                                                  \n",
            " max_pooling1d_3 (MaxPooling1D)  (None, 272, 128)    0           ['conv1d_3[0][0]']               \n",
            "                                                                                                  \n",
            " max_pooling1d_4 (MaxPooling1D)  (None, 271, 128)    0           ['conv1d_4[0][0]']               \n",
            "                                                                                                  \n",
            " max_pooling1d_5 (MaxPooling1D)  (None, 270, 128)    0           ['conv1d_5[0][0]']               \n",
            "                                                                                                  \n",
            " flatten (Flatten)              (None, 35200)        0           ['max_pooling1d[0][0]']          \n",
            "                                                                                                  \n",
            " flatten_1 (Flatten)            (None, 35072)        0           ['max_pooling1d_1[0][0]']        \n",
            "                                                                                                  \n",
            " flatten_2 (Flatten)            (None, 34944)        0           ['max_pooling1d_2[0][0]']        \n",
            "                                                                                                  \n",
            " flatten_3 (Flatten)            (None, 34816)        0           ['max_pooling1d_3[0][0]']        \n",
            "                                                                                                  \n",
            " flatten_4 (Flatten)            (None, 34688)        0           ['max_pooling1d_4[0][0]']        \n",
            "                                                                                                  \n",
            " flatten_5 (Flatten)            (None, 34560)        0           ['max_pooling1d_5[0][0]']        \n",
            "                                                                                                  \n",
            " concatenate (Concatenate)      (None, 209280)       0           ['flatten[0][0]',                \n",
            "                                                                  'flatten_1[0][0]',              \n",
            "                                                                  'flatten_2[0][0]',              \n",
            "                                                                  'flatten_3[0][0]',              \n",
            "                                                                  'flatten_4[0][0]',              \n",
            "                                                                  'flatten_5[0][0]']              \n",
            "                                                                                                  \n",
            " dropout (Dropout)              (None, 209280)       0           ['concatenate[0][0]']            \n",
            "                                                                                                  \n",
            " dense (Dense)                  (None, 5)            1046405     ['dropout[0][0]']                \n",
            "                                                                                                  \n",
            "==================================================================================================\n",
            "Total params: 13,139,573\n",
            "Trainable params: 13,139,573\n",
            "Non-trainable params: 0\n",
            "__________________________________________________________________________________________________\n",
            "Epoch 1/30\n",
            "2838/2838 [==============================] - 129s 41ms/step - loss: 1.2612 - accuracy: 0.4827 - val_loss: 1.0663 - val_accuracy: 0.5707\n",
            "Epoch 2/30\n",
            "2838/2838 [==============================] - 85s 30ms/step - loss: 0.9461 - accuracy: 0.6158 - val_loss: 0.7989 - val_accuracy: 0.7051\n",
            "Epoch 3/30\n",
            "2838/2838 [==============================] - 86s 30ms/step - loss: 0.7324 - accuracy: 0.7216 - val_loss: 0.6685 - val_accuracy: 0.7526\n",
            "Epoch 4/30\n",
            "2838/2838 [==============================] - 85s 30ms/step - loss: 0.6437 - accuracy: 0.7662 - val_loss: 0.5995 - val_accuracy: 0.7865\n",
            "Epoch 5/30\n",
            "2838/2838 [==============================] - 84s 30ms/step - loss: 0.5845 - accuracy: 0.7917 - val_loss: 0.5501 - val_accuracy: 0.7985\n",
            "Epoch 6/30\n",
            "2838/2838 [==============================] - 84s 30ms/step - loss: 0.5382 - accuracy: 0.8140 - val_loss: 0.5013 - val_accuracy: 0.8304\n",
            "Epoch 7/30\n",
            "2838/2838 [==============================] - 83s 29ms/step - loss: 0.4975 - accuracy: 0.8309 - val_loss: 0.4634 - val_accuracy: 0.8471\n",
            "Epoch 8/30\n",
            "2838/2838 [==============================] - 83s 29ms/step - loss: 0.4621 - accuracy: 0.8444 - val_loss: 0.4321 - val_accuracy: 0.8597\n",
            "Epoch 9/30\n",
            "2838/2838 [==============================] - 83s 29ms/step - loss: 0.4328 - accuracy: 0.8546 - val_loss: 0.4063 - val_accuracy: 0.8652\n",
            "Epoch 10/30\n",
            "2838/2838 [==============================] - 83s 29ms/step - loss: 0.4098 - accuracy: 0.8614 - val_loss: 0.3836 - val_accuracy: 0.8735\n",
            "Epoch 11/30\n",
            "2838/2838 [==============================] - 84s 30ms/step - loss: 0.3889 - accuracy: 0.8694 - val_loss: 0.3658 - val_accuracy: 0.8798\n",
            "Epoch 12/30\n",
            "2838/2838 [==============================] - 83s 29ms/step - loss: 0.3721 - accuracy: 0.8743 - val_loss: 0.3504 - val_accuracy: 0.8869\n",
            "Epoch 13/30\n",
            "2838/2838 [==============================] - 83s 29ms/step - loss: 0.3571 - accuracy: 0.8793 - val_loss: 0.3355 - val_accuracy: 0.8887\n",
            "Epoch 14/30\n",
            "2838/2838 [==============================] - 83s 29ms/step - loss: 0.3434 - accuracy: 0.8842 - val_loss: 0.3240 - val_accuracy: 0.8903\n",
            "Epoch 15/30\n",
            "2838/2838 [==============================] - 83s 29ms/step - loss: 0.3312 - accuracy: 0.8888 - val_loss: 0.3096 - val_accuracy: 0.8969\n",
            "Epoch 16/30\n",
            "2838/2838 [==============================] - 83s 29ms/step - loss: 0.3196 - accuracy: 0.8922 - val_loss: 0.2992 - val_accuracy: 0.9009\n",
            "Epoch 17/30\n",
            "2838/2838 [==============================] - 84s 30ms/step - loss: 0.3101 - accuracy: 0.8954 - val_loss: 0.2891 - val_accuracy: 0.9035\n",
            "Epoch 18/30\n",
            "2838/2838 [==============================] - 84s 30ms/step - loss: 0.3012 - accuracy: 0.8974 - val_loss: 0.2836 - val_accuracy: 0.9057\n",
            "Epoch 19/30\n",
            "2838/2838 [==============================] - 85s 30ms/step - loss: 0.2918 - accuracy: 0.9011 - val_loss: 0.2732 - val_accuracy: 0.9097\n",
            "Epoch 20/30\n",
            "2838/2838 [==============================] - 84s 29ms/step - loss: 0.2841 - accuracy: 0.9040 - val_loss: 0.2636 - val_accuracy: 0.9130\n",
            "Epoch 21/30\n",
            "2838/2838 [==============================] - 83s 29ms/step - loss: 0.2767 - accuracy: 0.9061 - val_loss: 0.2579 - val_accuracy: 0.9154\n",
            "Epoch 22/30\n",
            "2838/2838 [==============================] - 83s 29ms/step - loss: 0.2699 - accuracy: 0.9077 - val_loss: 0.2576 - val_accuracy: 0.9116\n",
            "Epoch 23/30\n",
            "2838/2838 [==============================] - 83s 29ms/step - loss: 0.2637 - accuracy: 0.9096 - val_loss: 0.2448 - val_accuracy: 0.9188\n",
            "Epoch 24/30\n",
            "2838/2838 [==============================] - 84s 29ms/step - loss: 0.2576 - accuracy: 0.9119 - val_loss: 0.2398 - val_accuracy: 0.9189\n",
            "Epoch 25/30\n",
            "2838/2838 [==============================] - 83s 29ms/step - loss: 0.2524 - accuracy: 0.9136 - val_loss: 0.2366 - val_accuracy: 0.9197\n",
            "Epoch 26/30\n",
            "2838/2838 [==============================] - 83s 29ms/step - loss: 0.2466 - accuracy: 0.9150 - val_loss: 0.2291 - val_accuracy: 0.9231\n",
            "Epoch 27/30\n",
            "2838/2838 [==============================] - 83s 29ms/step - loss: 0.2420 - accuracy: 0.9164 - val_loss: 0.2252 - val_accuracy: 0.9240\n",
            "Epoch 28/30\n",
            "2838/2838 [==============================] - 82s 29ms/step - loss: 0.2374 - accuracy: 0.9178 - val_loss: 0.2208 - val_accuracy: 0.9255\n",
            "Epoch 29/30\n",
            "2838/2838 [==============================] - 82s 29ms/step - loss: 0.2332 - accuracy: 0.9193 - val_loss: 0.2156 - val_accuracy: 0.9273\n",
            "Epoch 30/30\n",
            "2838/2838 [==============================] - 83s 29ms/step - loss: 0.2291 - accuracy: 0.9207 - val_loss: 0.2130 - val_accuracy: 0.9281\n"
          ]
        }
      ]
    },
    {
      "cell_type": "code",
      "source": [
        "import matplotlib.pyplot as plt\n",
        "from sklearn.metrics import confusion_matrix\n",
        "from sklearn.metrics import classification_report\n",
        "from sklearn.metrics import accuracy_score\n",
        "\n",
        "def show_train_history(train_history,train,validation):\n",
        "    plt.plot(train_history.history.history[train])\n",
        "    plt.plot(train_history.history.history[validation])\n",
        "    plt.title('Train History')\n",
        "    plt.ylabel(train)\n",
        "    plt.xlabel('Epoch')\n",
        "    plt.legend(['train', 'validation'], loc='upper left')\n",
        "    plt.show()\n",
        "\n",
        "show_train_history(model,'accuracy','val_accuracy')\n",
        "show_train_history(model,'loss','val_loss') \n",
        "acc = model.history.history['accuracy']\n",
        "val_acc = model.history.history['val_accuracy']\n",
        "loss = model.history.history['loss']\n",
        "val_loss = model.history.history['val_loss']\n",
        "print(f\"Accuracy on training data is:- {acc[-1]*100} %\")\n",
        "print(f\"Loss {loss[-1]*100}\")\n",
        "print(f\"Accuracy on validation data is:- {val_acc[-1]*100} %\")\n",
        "print(f\"Loss {val_loss[-1]*100}\")"
      ],
      "metadata": {
        "colab": {
          "base_uri": "https://localhost:8080/",
          "height": 996
        },
        "id": "zlE1FIpohHxh",
        "outputId": "fa5d138f-e9bf-47cf-eed1-20ba8c545a3d"
      },
      "execution_count": null,
      "outputs": [
        {
          "output_type": "display_data",
          "data": {
            "text/plain": [
              "<Figure size 640x480 with 1 Axes>"
            ],
            "image/png": "[encoded data removed]"
          },
          "metadata": {}
        },
        {
          "output_type": "display_data",
          "data": {
            "text/plain": [
              "<Figure size 640x480 with 1 Axes>"
            ],
            "image/png": "[encoded data removed]"
          },
          "metadata": {}
        },
        {
          "output_type": "stream",
          "name": "stdout",
          "text": [
            "Accuracy on training data is:- 92.07048416137695 %\n",
            "Loss 22.911126911640167\n",
            "Accuracy on validation data is:- 92.80837178230286 %\n",
            "Loss 21.29720002412796\n"
          ]
        }
      ]
    },
    {
      "cell_type": "code",
      "source": [
        "pred6 = np.argmax(model.predict(X_test), axis =1)\n",
        "slabels6=np.argmax(y_test, axis=1)\n",
        "print(\"F1-score of LSTM CNN2Model:\",f1_score(slabels6,pred6, average='macro'))\n",
        "print(classification_report(slabels6,pred6))"
      ],
      "metadata": {
        "colab": {
          "base_uri": "https://localhost:8080/"
        },
        "id": "rvAagmNdhM1z",
        "outputId": "ebde9ddb-803c-4c0f-95e8-fa27e93e3ab4"
      },
      "execution_count": null,
      "outputs": [
        {
          "output_type": "stream",
          "name": "stdout",
          "text": [
            "1419/1419 [==============================] - 9s 6ms/step\n",
            "F1-score of LSTM CNN2Model: 0.9113519242309007\n",
            "              precision    recall  f1-score   support\n",
            "\n",
            "           0       0.93      0.96      0.95     15658\n",
            "           1       0.94      0.93      0.94     13858\n",
            "           2       0.88      0.89      0.89      6208\n",
            "           3       0.95      0.88      0.91      6177\n",
            "           4       0.88      0.86      0.87      3499\n",
            "\n",
            "    accuracy                           0.93     45400\n",
            "   macro avg       0.92      0.91      0.91     45400\n",
            "weighted avg       0.93      0.93      0.93     45400\n",
            "\n"
          ]
        }
      ]
    },
    {
      "cell_type": "code",
      "source": [
        "#Confusion Matrix for GRU Layer Model:\n",
        "from sklearn.metrics import confusion_matrix\n",
        "cm = confusion_matrix(slabels6, pred6)\n",
        "cm"
      ],
      "metadata": {
        "colab": {
          "base_uri": "https://localhost:8080/"
        },
        "id": "CN4QGxKjIMWf",
        "outputId": "ca6c52d6-2851-415b-fbc9-75bac2a988d7"
      },
      "execution_count": null,
      "outputs": [
        {
          "output_type": "execute_result",
          "data": {
            "text/plain": [
              "array([[15078,   269,   150,    66,    95],\n",
              "       [  441, 12955,   251,    83,   128],\n",
              "       [  231,   235,  5541,   106,    95],\n",
              "       [  215,   200,   212,  5461,    89],\n",
              "       [  188,   144,   116,    48,  3003]])"
            ]
          },
          "metadata": {},
          "execution_count": 28
        }
      ]
    },
    {
      "cell_type": "code",
      "source": [
        "import seaborn as sns\n",
        "#Visualization of Confusion Matrix\n",
        "cm2 = confusion_matrix(slabels6, pred6,normalize=\"true\")\n",
        "sns.heatmap(cm2,annot=True)"
      ],
      "metadata": {
        "colab": {
          "base_uri": "https://localhost:8080/",
          "height": 447
        },
        "id": "qn4o4CAtIUWS",
        "outputId": "c750b992-6f88-4d43-85c9-274a01a5c148"
      },
      "execution_count": null,
      "outputs": [
        {
          "output_type": "execute_result",
          "data": {
            "text/plain": [
              "<Axes: >"
            ]
          },
          "metadata": {},
          "execution_count": 29
        },
        {
          "output_type": "display_data",
          "data": {
            "text/plain": [
              "<Figure size 640x480 with 2 Axes>"
            ],
            "image/png": "[encoded data removed]"
          },
          "metadata": {}
        }
      ]
    }
  ]
}