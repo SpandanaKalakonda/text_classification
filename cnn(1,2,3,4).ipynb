{
  "nbformat": 4,
  "nbformat_minor": 0,
  "metadata": {
    "colab": {
      "provenance": []
    },
    "kernelspec": {
      "name": "python3",
      "display_name": "Python 3"
    },
    "language_info": {
      "name": "python"
    },
    "accelerator": "GPU",
    "gpuClass": "standard"
  },
  "cells": [
    {
      "cell_type": "code",
      "execution_count": null,
      "metadata": {
        "id": "A2TmitpMdJrO"
      },
      "outputs": [],
      "source": [
        "import pandas as pd\n",
        "import numpy as np"
      ]
    },
    {
      "cell_type": "code",
      "source": [
        "d1 = pd.read_csv(\"/content/flabel12.csv\")\n",
        "d2 = pd.read_csv(\"/content/dataairport1.csv\")\n",
        "d3 = pd.read_csv(\"/content/datachruch1.csv\")\n",
        "d4 = pd.read_csv(\"/content/datahospital1.csv\")\n",
        "d5 = pd.read_csv(\"/content/datarestaurant.csv\")\n",
        "d6 = pd.read_csv(\"/content/datazoo1.csv\")\n",
        "data = pd.concat([d1,d3,d4,d5,d6])\n",
        "data.shape"
      ],
      "metadata": {
        "id": "Q4I1gdOvdNEH",
        "colab": {
          "base_uri": "https://localhost:8080/"
        },
        "outputId": "317a4403-eca6-476f-dedd-e6f090248d9c"
      },
      "execution_count": null,
      "outputs": [
        {
          "output_type": "execute_result",
          "data": {
            "text/plain": [
              "(131625, 5)"
            ]
          },
          "metadata": {},
          "execution_count": 130
        }
      ]
    },
    {
      "cell_type": "code",
      "source": [
        "data.drop_duplicates(subset=['Tweet'], inplace = True)\n",
        "print(\"No of Unique tweets: \", data['Tweet'].count())"
      ],
      "metadata": {
        "id": "bvGyZi7adWMn",
        "colab": {
          "base_uri": "https://localhost:8080/"
        },
        "outputId": "9758545a-b27c-4dd1-b45f-82c088310bef"
      },
      "execution_count": null,
      "outputs": [
        {
          "output_type": "stream",
          "name": "stdout",
          "text": [
            "No of Unique tweets:  129715\n"
          ]
        }
      ]
    },
    {
      "cell_type": "code",
      "source": [
        "import nltk\n",
        "import re, string\n",
        "from nltk.corpus import stopwords\n",
        "nltk.download('stopwords')\n",
        "stopword = stopwords.words('english')\n",
        "print(\"Stopwords:\",stopword)"
      ],
      "metadata": {
        "id": "UHhf4rOHdYrv",
        "colab": {
          "base_uri": "https://localhost:8080/"
        },
        "outputId": "8058495f-92e8-49e9-f8e8-248c53d792a9"
      },
      "execution_count": null,
      "outputs": [
        {
          "output_type": "stream",
          "name": "stdout",
          "text": [
            "Stopwords: ['i', 'me', 'my', 'myself', 'we', 'our', 'ours', 'ourselves', 'you', \"you're\", \"you've\", \"you'll\", \"you'd\", 'your', 'yours', 'yourself', 'yourselves', 'he', 'him', 'his', 'himself', 'she', \"she's\", 'her', 'hers', 'herself', 'it', \"it's\", 'its', 'itself', 'they', 'them', 'their', 'theirs', 'themselves', 'what', 'which', 'who', 'whom', 'this', 'that', \"that'll\", 'these', 'those', 'am', 'is', 'are', 'was', 'were', 'be', 'been', 'being', 'have', 'has', 'had', 'having', 'do', 'does', 'did', 'doing', 'a', 'an', 'the', 'and', 'but', 'if', 'or', 'because', 'as', 'until', 'while', 'of', 'at', 'by', 'for', 'with', 'about', 'against', 'between', 'into', 'through', 'during', 'before', 'after', 'above', 'below', 'to', 'from', 'up', 'down', 'in', 'out', 'on', 'off', 'over', 'under', 'again', 'further', 'then', 'once', 'here', 'there', 'when', 'where', 'why', 'how', 'all', 'any', 'both', 'each', 'few', 'more', 'most', 'other', 'some', 'such', 'no', 'nor', 'not', 'only', 'own', 'same', 'so', 'than', 'too', 'very', 's', 't', 'can', 'will', 'just', 'don', \"don't\", 'should', \"should've\", 'now', 'd', 'll', 'm', 'o', 're', 've', 'y', 'ain', 'aren', \"aren't\", 'couldn', \"couldn't\", 'didn', \"didn't\", 'doesn', \"doesn't\", 'hadn', \"hadn't\", 'hasn', \"hasn't\", 'haven', \"haven't\", 'isn', \"isn't\", 'ma', 'mightn', \"mightn't\", 'mustn', \"mustn't\", 'needn', \"needn't\", 'shan', \"shan't\", 'shouldn', \"shouldn't\", 'wasn', \"wasn't\", 'weren', \"weren't\", 'won', \"won't\", 'wouldn', \"wouldn't\"]\n"
          ]
        },
        {
          "output_type": "stream",
          "name": "stderr",
          "text": [
            "[nltk_data] Downloading package stopwords to /root/nltk_data...\n",
            "[nltk_data]   Package stopwords is already up-to-date!\n"
          ]
        }
      ]
    },
    {
      "cell_type": "code",
      "source": [
        "def clean(text):\n",
        "    text = text.lower() # lower case\n",
        "    text = re.sub(r'https?://\\S+|www\\.\\S+', \" \", text)#URL\n",
        "    text = re.sub(r'@\\w+',' ',text) # mentions\n",
        "    text = re.sub(r'#\\w+', ' ', text) #hashtags\n",
        "    text= re.sub(r'[^\\w\\s]',' ',text) #punctuations\n",
        "    text= re.sub(r'\\d+', ' ', text) #digits\n",
        "    text = re.sub('\\[.*?\\]',' ', text) #any punctuations left\n",
        "    text = re.sub(\"[^a-z0-9]\",\" \", text)# any others charcters other than numbers and letters\n",
        "    text = text.split() #stopwords\n",
        "    text = \" \".join([word for word in text if not word in stopword])\n",
        "    return text"
      ],
      "metadata": {
        "id": "n8bbZyEHdd8Q"
      },
      "execution_count": null,
      "outputs": []
    },
    {
      "cell_type": "code",
      "source": [
        "data['Tweet'] = data['Tweet'].astype(str).apply(lambda x: clean(x))\n",
        "data['Tweet'].sample(5)"
      ],
      "metadata": {
        "id": "Z6rJS82ldhXY",
        "colab": {
          "base_uri": "https://localhost:8080/"
        },
        "outputId": "66a8a2c0-92b3-451b-8448-99034cd76b6a"
      },
      "execution_count": null,
      "outputs": [
        {
          "output_type": "execute_result",
          "data": {
            "text/plain": [
              "5573     burrito roulette day carnitas black beans roma...\n",
              "74449             orlando international airport orlando fl\n",
              "35997    please follow back best hospital amp greatest ...\n",
              "2920     father revealed john kjv bible verse image can...\n",
              "96958     happy new babies nash potomac coquil playing mom\n",
              "Name: Tweet, dtype: object"
            ]
          },
          "metadata": {},
          "execution_count": 134
        }
      ]
    },
    {
      "cell_type": "code",
      "source": [
        "max_len = len(max(data['Tweet'], key=len))\n",
        "print(\"Maximum length of Tweet:\",max_len)"
      ],
      "metadata": {
        "id": "993d9zHUdk24",
        "colab": {
          "base_uri": "https://localhost:8080/"
        },
        "outputId": "5249c884-5365-4bfe-da52-26fca9a2fe3a"
      },
      "execution_count": null,
      "outputs": [
        {
          "output_type": "stream",
          "name": "stdout",
          "text": [
            "Maximum length of Tweet: 276\n"
          ]
        }
      ]
    },
    {
      "cell_type": "code",
      "source": [
        "import nltk\n",
        "nltk.download('omw-1.4')\n",
        "nltk.download('wordnet')\n",
        "from nltk.stem import WordNetLemmatizer\n",
        "from nltk.tokenize import word_tokenize"
      ],
      "metadata": {
        "id": "rz5nkFLNdoFh",
        "colab": {
          "base_uri": "https://localhost:8080/"
        },
        "outputId": "74698309-5b85-4dde-9872-4fcef4f4d022"
      },
      "execution_count": null,
      "outputs": [
        {
          "output_type": "stream",
          "name": "stderr",
          "text": [
            "[nltk_data] Downloading package omw-1.4 to /root/nltk_data...\n",
            "[nltk_data]   Package omw-1.4 is already up-to-date!\n",
            "[nltk_data] Downloading package wordnet to /root/nltk_data...\n",
            "[nltk_data]   Package wordnet is already up-to-date!\n"
          ]
        }
      ]
    },
    {
      "cell_type": "code",
      "source": [
        "tokenizer = nltk.tokenize.WhitespaceTokenizer()\n",
        "lemmatizer = WordNetLemmatizer()\n",
        "def lemmatize_tweets(tweets):\n",
        "    temp = \"\"\n",
        "    for w in tokenizer.tokenize(tweets):\n",
        "      temp = temp + lemmatizer.lemmatize(w) +\" \" \n",
        "    return temp\n",
        "data['Tweet'] = data['Tweet'].apply(lambda x: lemmatize_tweets(x))"
      ],
      "metadata": {
        "id": "cd2ZTNvmdswg"
      },
      "execution_count": null,
      "outputs": []
    },
    {
      "cell_type": "code",
      "source": [
        "from nltk.stem.porter import PorterStemmer\n",
        "stemmer= PorterStemmer()\n",
        "\n",
        "def stem_tweets(tweets):\n",
        "    temp = \"\"\n",
        "    for w in tokenizer.tokenize(tweets):\n",
        "      temp = temp + stemmer.stem(w) +\" \" \n",
        "    return temp\n",
        "data['Tweet'] = data['Tweet'].apply(lambda x: stem_tweets(x))"
      ],
      "metadata": {
        "id": "vOhxe2X9dvLo"
      },
      "execution_count": null,
      "outputs": []
    },
    {
      "cell_type": "code",
      "source": [
        "x = data['Tweet']\n",
        "y = data['Label']"
      ],
      "metadata": {
        "id": "O46PeVRod2Us"
      },
      "execution_count": null,
      "outputs": []
    },
    {
      "cell_type": "code",
      "source": [
        "!pip install tensorflow"
      ],
      "metadata": {
        "colab": {
          "base_uri": "https://localhost:8080/"
        },
        "id": "PLalvWKeeAMI",
        "outputId": "31f94dd7-a927-49ab-e304-eaa939b1251a"
      },
      "execution_count": null,
      "outputs": [
        {
          "output_type": "stream",
          "name": "stdout",
          "text": [
            "Looking in indexes: https://pypi.org/simple, https://us-python.pkg.dev/colab-wheels/public/simple/\n",
            "Requirement already satisfied: tensorflow in /usr/local/lib/python3.9/dist-packages (2.11.0)\n",
            "Requirement already satisfied: flatbuffers>=2.0 in /usr/local/lib/python3.9/dist-packages (from tensorflow) (23.3.3)\n",
            "Requirement already satisfied: six>=1.12.0 in /usr/local/lib/python3.9/dist-packages (from tensorflow) (1.16.0)\n",
            "Requirement already satisfied: setuptools in /usr/local/lib/python3.9/dist-packages (from tensorflow) (67.6.0)\n",
            "Requirement already satisfied: tensorboard<2.12,>=2.11 in /usr/local/lib/python3.9/dist-packages (from tensorflow) (2.11.2)\n",
            "Requirement already satisfied: libclang>=13.0.0 in /usr/local/lib/python3.9/dist-packages (from tensorflow) (15.0.6.1)\n",
            "Requirement already satisfied: gast<=0.4.0,>=0.2.1 in /usr/local/lib/python3.9/dist-packages (from tensorflow) (0.4.0)\n",
            "Requirement already satisfied: h5py>=2.9.0 in /usr/local/lib/python3.9/dist-packages (from tensorflow) (3.8.0)\n",
            "Requirement already satisfied: grpcio<2.0,>=1.24.3 in /usr/local/lib/python3.9/dist-packages (from tensorflow) (1.51.3)\n",
            "Requirement already satisfied: opt-einsum>=2.3.2 in /usr/local/lib/python3.9/dist-packages (from tensorflow) (3.3.0)\n",
            "Requirement already satisfied: keras<2.12,>=2.11.0 in /usr/local/lib/python3.9/dist-packages (from tensorflow) (2.11.0)\n",
            "Requirement already satisfied: google-pasta>=0.1.1 in /usr/local/lib/python3.9/dist-packages (from tensorflow) (0.2.0)\n",
            "Requirement already satisfied: astunparse>=1.6.0 in /usr/local/lib/python3.9/dist-packages (from tensorflow) (1.6.3)\n",
            "Requirement already satisfied: termcolor>=1.1.0 in /usr/local/lib/python3.9/dist-packages (from tensorflow) (2.2.0)\n",
            "Requirement already satisfied: wrapt>=1.11.0 in /usr/local/lib/python3.9/dist-packages (from tensorflow) (1.15.0)\n",
            "Requirement already satisfied: numpy>=1.20 in /usr/local/lib/python3.9/dist-packages (from tensorflow) (1.22.4)\n",
            "Requirement already satisfied: protobuf<3.20,>=3.9.2 in /usr/local/lib/python3.9/dist-packages (from tensorflow) (3.19.6)\n",
            "Requirement already satisfied: absl-py>=1.0.0 in /usr/local/lib/python3.9/dist-packages (from tensorflow) (1.4.0)\n",
            "Requirement already satisfied: tensorflow-estimator<2.12,>=2.11.0 in /usr/local/lib/python3.9/dist-packages (from tensorflow) (2.11.0)\n",
            "Requirement already satisfied: tensorflow-io-gcs-filesystem>=0.23.1 in /usr/local/lib/python3.9/dist-packages (from tensorflow) (0.31.0)\n",
            "Requirement already satisfied: packaging in /usr/local/lib/python3.9/dist-packages (from tensorflow) (23.0)\n",
            "Requirement already satisfied: typing-extensions>=3.6.6 in /usr/local/lib/python3.9/dist-packages (from tensorflow) (4.5.0)\n",
            "Requirement already satisfied: wheel<1.0,>=0.23.0 in /usr/local/lib/python3.9/dist-packages (from astunparse>=1.6.0->tensorflow) (0.40.0)\n",
            "Requirement already satisfied: google-auth<3,>=1.6.3 in /usr/local/lib/python3.9/dist-packages (from tensorboard<2.12,>=2.11->tensorflow) (2.16.2)\n",
            "Requirement already satisfied: markdown>=2.6.8 in /usr/local/lib/python3.9/dist-packages (from tensorboard<2.12,>=2.11->tensorflow) (3.4.3)\n",
            "Requirement already satisfied: tensorboard-plugin-wit>=1.6.0 in /usr/local/lib/python3.9/dist-packages (from tensorboard<2.12,>=2.11->tensorflow) (1.8.1)\n",
            "Requirement already satisfied: tensorboard-data-server<0.7.0,>=0.6.0 in /usr/local/lib/python3.9/dist-packages (from tensorboard<2.12,>=2.11->tensorflow) (0.6.1)\n",
            "Requirement already satisfied: werkzeug>=1.0.1 in /usr/local/lib/python3.9/dist-packages (from tensorboard<2.12,>=2.11->tensorflow) (2.2.3)\n",
            "Requirement already satisfied: google-auth-oauthlib<0.5,>=0.4.1 in /usr/local/lib/python3.9/dist-packages (from tensorboard<2.12,>=2.11->tensorflow) (0.4.6)\n",
            "Requirement already satisfied: requests<3,>=2.21.0 in /usr/local/lib/python3.9/dist-packages (from tensorboard<2.12,>=2.11->tensorflow) (2.27.1)\n",
            "Requirement already satisfied: cachetools<6.0,>=2.0.0 in /usr/local/lib/python3.9/dist-packages (from google-auth<3,>=1.6.3->tensorboard<2.12,>=2.11->tensorflow) (5.3.0)\n",
            "Requirement already satisfied: pyasn1-modules>=0.2.1 in /usr/local/lib/python3.9/dist-packages (from google-auth<3,>=1.6.3->tensorboard<2.12,>=2.11->tensorflow) (0.2.8)\n",
            "Requirement already satisfied: rsa<5,>=3.1.4 in /usr/local/lib/python3.9/dist-packages (from google-auth<3,>=1.6.3->tensorboard<2.12,>=2.11->tensorflow) (4.9)\n",
            "Requirement already satisfied: requests-oauthlib>=0.7.0 in /usr/local/lib/python3.9/dist-packages (from google-auth-oauthlib<0.5,>=0.4.1->tensorboard<2.12,>=2.11->tensorflow) (1.3.1)\n",
            "Requirement already satisfied: importlib-metadata>=4.4 in /usr/local/lib/python3.9/dist-packages (from markdown>=2.6.8->tensorboard<2.12,>=2.11->tensorflow) (6.1.0)\n",
            "Requirement already satisfied: certifi>=2017.4.17 in /usr/local/lib/python3.9/dist-packages (from requests<3,>=2.21.0->tensorboard<2.12,>=2.11->tensorflow) (2022.12.7)\n",
            "Requirement already satisfied: urllib3<1.27,>=1.21.1 in /usr/local/lib/python3.9/dist-packages (from requests<3,>=2.21.0->tensorboard<2.12,>=2.11->tensorflow) (1.26.15)\n",
            "Requirement already satisfied: charset-normalizer~=2.0.0 in /usr/local/lib/python3.9/dist-packages (from requests<3,>=2.21.0->tensorboard<2.12,>=2.11->tensorflow) (2.0.12)\n",
            "Requirement already satisfied: idna<4,>=2.5 in /usr/local/lib/python3.9/dist-packages (from requests<3,>=2.21.0->tensorboard<2.12,>=2.11->tensorflow) (3.4)\n",
            "Requirement already satisfied: MarkupSafe>=2.1.1 in /usr/local/lib/python3.9/dist-packages (from werkzeug>=1.0.1->tensorboard<2.12,>=2.11->tensorflow) (2.1.2)\n",
            "Requirement already satisfied: zipp>=0.5 in /usr/local/lib/python3.9/dist-packages (from importlib-metadata>=4.4->markdown>=2.6.8->tensorboard<2.12,>=2.11->tensorflow) (3.15.0)\n",
            "Requirement already satisfied: pyasn1<0.5.0,>=0.4.6 in /usr/local/lib/python3.9/dist-packages (from pyasn1-modules>=0.2.1->google-auth<3,>=1.6.3->tensorboard<2.12,>=2.11->tensorflow) (0.4.8)\n",
            "Requirement already satisfied: oauthlib>=3.0.0 in /usr/local/lib/python3.9/dist-packages (from requests-oauthlib>=0.7.0->google-auth-oauthlib<0.5,>=0.4.1->tensorboard<2.12,>=2.11->tensorflow) (3.2.2)\n"
          ]
        }
      ]
    },
    {
      "cell_type": "code",
      "source": [
        "from tensorflow.keras.preprocessing.text import Tokenizer\n",
        "from tensorflow.keras.preprocessing.sequence import pad_sequences\n",
        "from gensim.models import word2vec\n",
        "from keras.models import Sequential,Model\n",
        "from keras.layers import Dense,MaxPooling1D, AveragePooling1D, GlobalMaxPooling1D,GlobalAveragePooling1D,Concatenate,Input\n",
        "from keras.layers import Embedding, LSTM, Flatten, Dropout, Conv1D\n",
        "from tensorflow.keras.callbacks import EarlyStopping\n",
        "from tensorflow.keras.optimizers import SGD, Adam,Adadelta\n",
        "from tensorflow.keras.losses import CategoricalCrossentropy\n",
        "from tensorflow.keras import regularizers\n",
        "from sklearn.metrics import f1_score\n",
        "import tensorflow as tf"
      ],
      "metadata": {
        "id": "Bpffxr-weH5V"
      },
      "execution_count": null,
      "outputs": []
    },
    {
      "cell_type": "code",
      "source": [
        "tokenizer = Tokenizer()\n",
        "tokenizer.fit_on_texts(x)\n",
        "vocab_length = len(tokenizer.word_index)+1\n",
        "print(\"Length of Word Index:\",vocab_length)\n",
        "X = tokenizer.texts_to_sequences(x)\n",
        "#encoded_sequence = [one_hot(s, vocab_length) for s in x ]\n",
        "#print(encoded_sequence )\n",
        "X = pad_sequences(X,maxlen = max_len, padding='post')"
      ],
      "metadata": {
        "colab": {
          "base_uri": "https://localhost:8080/"
        },
        "id": "LcbB2DYweNkT",
        "outputId": "f0e71eff-51de-4892-b18e-0dd816f604b5"
      },
      "execution_count": null,
      "outputs": [
        {
          "output_type": "stream",
          "name": "stdout",
          "text": [
            "Length of Word Index: 37620\n"
          ]
        }
      ]
    },
    {
      "cell_type": "code",
      "source": [
        "from tensorflow.keras.utils import to_categorical\n",
        "y = to_categorical(y)"
      ],
      "metadata": {
        "id": "K0OXF3EceUIO"
      },
      "execution_count": null,
      "outputs": []
    },
    {
      "cell_type": "code",
      "source": [
        "num_features = 300   # Word vector dimensionality                      \n",
        "min_word_count = 5   # Minimum word count                        \n",
        "num_workers = 4       # Number of threads to run in parallel\n",
        "context = 10          # Context window size                                                                                    \n",
        "\n",
        "w2v_model = word2vec.Word2Vec(data['Tweet'], workers=num_workers, \n",
        "            vector_size=num_features, min_count = min_word_count, \n",
        "            window = context)\n",
        "\n",
        "w2v_model.init_sims(replace=True)"
      ],
      "metadata": {
        "colab": {
          "base_uri": "https://localhost:8080/"
        },
        "id": "5DnUWWMuewQG",
        "outputId": "092ea7fe-fd36-4763-8390-a3ca2bea8fa6"
      },
      "execution_count": null,
      "outputs": [
        {
          "output_type": "stream",
          "name": "stderr",
          "text": [
            "WARNING:gensim.models.word2vec:Each 'sentences' item should be a list of words (usually unicode strings). First item here is instead plain <class 'str'>.\n",
            "<ipython-input-144-c8569a3a6ce3>:10: DeprecationWarning: Call to deprecated `init_sims` (Gensim 4.0.0 implemented internal optimizations that make calls to init_sims() unnecessary. init_sims() is now obsoleted and will be completely removed in future versions. See https://github.com/RaRe-Technologies/gensim/wiki/Migrating-from-Gensim-3.x-to-4).\n",
            "  w2v_model.init_sims(replace=True)\n",
            "WARNING:gensim.models.keyedvectors:destructive init_sims(replace=True) deprecated & no longer required for space-efficiency\n"
          ]
        }
      ]
    },
    {
      "cell_type": "code",
      "source": [
        "embedding_dim = max_len\n",
        "batch_size = 128\n",
        "#drop_out = 0.5\n",
        "num_epochs = 30"
      ],
      "metadata": {
        "id": "qxcEUKWKeWwn"
      },
      "execution_count": null,
      "outputs": []
    },
    {
      "cell_type": "code",
      "source": [
        "from numpy import zeros\n",
        "embedding_matrix = zeros((vocab_length, 300))\n",
        "\n",
        "for word, i in tokenizer.word_index.items():\n",
        "    # check if the word is in the word2vec vocab\n",
        "    if word in w2v_model.wv:\n",
        "        embedding_vector = w2v_model.wv[word]\n",
        "        \n",
        "        if embedding_vector is not None:\n",
        "            embedding_matrix[i] = embedding_vector"
      ],
      "metadata": {
        "id": "jVTXHfGte4MQ"
      },
      "execution_count": null,
      "outputs": []
    },
    {
      "cell_type": "code",
      "source": [
        "from sklearn.model_selection import train_test_split"
      ],
      "metadata": {
        "id": "P3wmmSnxincs"
      },
      "execution_count": null,
      "outputs": []
    },
    {
      "cell_type": "code",
      "source": [
        "X_train, X_test, y_train, y_test = train_test_split(X,y, train_size=0.70, shuffle=True,random_state=42,stratify=y)\n",
        "X_test, X_val, y_test, y_val = train_test_split(X_train,y_train, test_size=0.5,shuffle=True,random_state=42,stratify=y_train)"
      ],
      "metadata": {
        "id": "NIPos7qlfO2t"
      },
      "execution_count": null,
      "outputs": []
    },
    {
      "cell_type": "code",
      "source": [
        "X_val.shape\n"
      ],
      "metadata": {
        "colab": {
          "base_uri": "https://localhost:8080/"
        },
        "id": "kwf3b_gdfYA5",
        "outputId": "089c4e08-1d1e-4514-d313-7e3e46f77198"
      },
      "execution_count": null,
      "outputs": [
        {
          "output_type": "execute_result",
          "data": {
            "text/plain": [
              "(45400, 276)"
            ]
          },
          "metadata": {},
          "execution_count": 149
        }
      ]
    },
    {
      "cell_type": "code",
      "source": [
        "X_train.shape"
      ],
      "metadata": {
        "colab": {
          "base_uri": "https://localhost:8080/"
        },
        "id": "_SzhLpKBAp34",
        "outputId": "cecf2898-affd-48e7-f924-d79efab55afe"
      },
      "execution_count": null,
      "outputs": [
        {
          "output_type": "execute_result",
          "data": {
            "text/plain": [
              "(90800, 276)"
            ]
          },
          "metadata": {},
          "execution_count": 150
        }
      ]
    },
    {
      "cell_type": "code",
      "source": [
        "X_test.shape"
      ],
      "metadata": {
        "colab": {
          "base_uri": "https://localhost:8080/"
        },
        "id": "Ewjo13MFAqjH",
        "outputId": "441e7fa2-d8d7-479f-b1cb-171720a587b5"
      },
      "execution_count": null,
      "outputs": [
        {
          "output_type": "execute_result",
          "data": {
            "text/plain": [
              "(45400, 276)"
            ]
          },
          "metadata": {},
          "execution_count": 151
        }
      ]
    },
    {
      "cell_type": "code",
      "source": [
        "embedding_matrix.shape"
      ],
      "metadata": {
        "colab": {
          "base_uri": "https://localhost:8080/"
        },
        "id": "Euv6gmOCAwQd",
        "outputId": "1d43720d-e4ee-402f-8776-ffc74080da32"
      },
      "execution_count": null,
      "outputs": [
        {
          "output_type": "execute_result",
          "data": {
            "text/plain": [
              "(37620, 300)"
            ]
          },
          "metadata": {},
          "execution_count": 152
        }
      ]
    },
    {
      "cell_type": "code",
      "source": [
        "model_input = Input(shape=(max_len, ))\n",
        "\n",
        "model = Sequential()\n",
        "e = Embedding(vocab_length,300, weights=[embedding_matrix], input_length=max_len)(model_input)\n",
        "\n",
        "filter_sizes =[1,2,3,4]\n",
        "num_filters = 128\n",
        "conv_blocks = []\n",
        "for sz in filter_sizes:\n",
        "    conv=Conv1D(filters=num_filters,kernel_size=sz, activation='relu',kernel_regularizer=regularizers.l2(0.000001))(e)\n",
        "    conv = MaxPooling1D(pool_size=2, strides =1 )(conv)\n",
        "    conv = Flatten()(conv)\n",
        "    conv_blocks.append(conv)\n",
        "\n",
        "z = Concatenate()(conv_blocks) if len(conv_blocks) > 1 else conv_blocks[0]\n",
        "# z = Dense(32, activation=\"sigmoid\")(z)\n",
        "z = Dropout(0.5)(z)\n",
        "model_output = Dense(5, activation=\"softmax\")(z)\n",
        "\n",
        "model = Model(model_input, model_output)\n",
        "model.summary()\n",
        "\n",
        "# compile the model\n",
        "opt = Adam(learning_rate=0.00001)\n",
        "model.compile(optimizer=opt,loss = CategoricalCrossentropy(from_logits=False), metrics=['accuracy'])\n",
        "\n",
        "early_stopping = EarlyStopping(monitor='val_loss', patience=5, mode='min')\n",
        "history = model.fit(X_train, y_train, validation_data=(X_val, y_val),epochs=30, verbose=1,\n",
        "               callbacks=[early_stopping])\n"
      ],
      "metadata": {
        "colab": {
          "base_uri": "https://localhost:8080/"
        },
        "id": "_B7W43YaZ2Mp",
        "outputId": "79af59e7-0d1b-4c9b-8072-2704c136f0ad"
      },
      "execution_count": null,
      "outputs": [
        {
          "output_type": "stream",
          "name": "stdout",
          "text": [
            "Model: \"model_5\"\n",
            "__________________________________________________________________________________________________\n",
            " Layer (type)                   Output Shape         Param #     Connected to                     \n",
            "==================================================================================================\n",
            " input_6 (InputLayer)           [(None, 276)]        0           []                               \n",
            "                                                                                                  \n",
            " embedding_5 (Embedding)        (None, 276, 300)     11286000    ['input_6[0][0]']                \n",
            "                                                                                                  \n",
            " conv1d_20 (Conv1D)             (None, 276, 128)     38528       ['embedding_5[0][0]']            \n",
            "                                                                                                  \n",
            " conv1d_21 (Conv1D)             (None, 275, 128)     76928       ['embedding_5[0][0]']            \n",
            "                                                                                                  \n",
            " conv1d_22 (Conv1D)             (None, 274, 128)     115328      ['embedding_5[0][0]']            \n",
            "                                                                                                  \n",
            " conv1d_23 (Conv1D)             (None, 273, 128)     153728      ['embedding_5[0][0]']            \n",
            "                                                                                                  \n",
            " max_pooling1d_20 (MaxPooling1D  (None, 275, 128)    0           ['conv1d_20[0][0]']              \n",
            " )                                                                                                \n",
            "                                                                                                  \n",
            " max_pooling1d_21 (MaxPooling1D  (None, 274, 128)    0           ['conv1d_21[0][0]']              \n",
            " )                                                                                                \n",
            "                                                                                                  \n",
            " max_pooling1d_22 (MaxPooling1D  (None, 273, 128)    0           ['conv1d_22[0][0]']              \n",
            " )                                                                                                \n",
            "                                                                                                  \n",
            " max_pooling1d_23 (MaxPooling1D  (None, 272, 128)    0           ['conv1d_23[0][0]']              \n",
            " )                                                                                                \n",
            "                                                                                                  \n",
            " flatten_20 (Flatten)           (None, 35200)        0           ['max_pooling1d_20[0][0]']       \n",
            "                                                                                                  \n",
            " flatten_21 (Flatten)           (None, 35072)        0           ['max_pooling1d_21[0][0]']       \n",
            "                                                                                                  \n",
            " flatten_22 (Flatten)           (None, 34944)        0           ['max_pooling1d_22[0][0]']       \n",
            "                                                                                                  \n",
            " flatten_23 (Flatten)           (None, 34816)        0           ['max_pooling1d_23[0][0]']       \n",
            "                                                                                                  \n",
            " concatenate_5 (Concatenate)    (None, 140032)       0           ['flatten_20[0][0]',             \n",
            "                                                                  'flatten_21[0][0]',             \n",
            "                                                                  'flatten_22[0][0]',             \n",
            "                                                                  'flatten_23[0][0]']             \n",
            "                                                                                                  \n",
            " dropout_5 (Dropout)            (None, 140032)       0           ['concatenate_5[0][0]']          \n",
            "                                                                                                  \n",
            " dense_6 (Dense)                (None, 5)            700165      ['dropout_5[0][0]']              \n",
            "                                                                                                  \n",
            "==================================================================================================\n",
            "Total params: 12,370,677\n",
            "Trainable params: 12,370,677\n",
            "Non-trainable params: 0\n",
            "__________________________________________________________________________________________________\n",
            "Epoch 1/30\n",
            "2838/2838 [==============================] - 88s 29ms/step - loss: 1.2934 - accuracy: 0.4733 - val_loss: 1.0934 - val_accuracy: 0.5668\n",
            "Epoch 2/30\n",
            "2838/2838 [==============================] - 59s 21ms/step - loss: 0.9768 - accuracy: 0.5991 - val_loss: 0.8376 - val_accuracy: 0.6649\n",
            "Epoch 3/30\n",
            "2838/2838 [==============================] - 59s 21ms/step - loss: 0.7688 - accuracy: 0.7010 - val_loss: 0.7055 - val_accuracy: 0.7350\n",
            "Epoch 4/30\n",
            "2838/2838 [==============================] - 63s 22ms/step - loss: 0.6788 - accuracy: 0.7454 - val_loss: 0.6389 - val_accuracy: 0.7666\n",
            "Epoch 5/30\n",
            "2838/2838 [==============================] - 58s 21ms/step - loss: 0.6237 - accuracy: 0.7698 - val_loss: 0.5898 - val_accuracy: 0.7884\n",
            "Epoch 6/30\n",
            "2838/2838 [==============================] - 59s 21ms/step - loss: 0.5792 - accuracy: 0.7905 - val_loss: 0.5473 - val_accuracy: 0.8005\n",
            "Epoch 7/30\n",
            "2838/2838 [==============================] - 58s 21ms/step - loss: 0.5422 - accuracy: 0.8099 - val_loss: 0.5121 - val_accuracy: 0.8237\n",
            "Epoch 8/30\n",
            "2838/2838 [==============================] - 59s 21ms/step - loss: 0.5081 - accuracy: 0.8247 - val_loss: 0.4774 - val_accuracy: 0.8397\n",
            "Epoch 9/30\n",
            "2838/2838 [==============================] - 62s 22ms/step - loss: 0.4769 - accuracy: 0.8385 - val_loss: 0.4478 - val_accuracy: 0.8514\n",
            "Epoch 10/30\n",
            "2838/2838 [==============================] - 58s 21ms/step - loss: 0.4482 - accuracy: 0.8492 - val_loss: 0.4235 - val_accuracy: 0.8597\n",
            "Epoch 11/30\n",
            "2838/2838 [==============================] - 62s 22ms/step - loss: 0.4240 - accuracy: 0.8579 - val_loss: 0.3990 - val_accuracy: 0.8678\n",
            "Epoch 12/30\n",
            "2838/2838 [==============================] - 62s 22ms/step - loss: 0.4039 - accuracy: 0.8636 - val_loss: 0.3820 - val_accuracy: 0.8731\n",
            "Epoch 13/30\n",
            "2838/2838 [==============================] - 62s 22ms/step - loss: 0.3860 - accuracy: 0.8695 - val_loss: 0.3663 - val_accuracy: 0.8796\n",
            "Epoch 14/30\n",
            "2838/2838 [==============================] - 62s 22ms/step - loss: 0.3717 - accuracy: 0.8755 - val_loss: 0.3513 - val_accuracy: 0.8828\n",
            "Epoch 15/30\n",
            "2838/2838 [==============================] - 62s 22ms/step - loss: 0.3585 - accuracy: 0.8793 - val_loss: 0.3381 - val_accuracy: 0.8882\n",
            "Epoch 16/30\n",
            "2838/2838 [==============================] - 62s 22ms/step - loss: 0.3465 - accuracy: 0.8833 - val_loss: 0.3257 - val_accuracy: 0.8938\n",
            "Epoch 17/30\n",
            "2838/2838 [==============================] - 58s 21ms/step - loss: 0.3357 - accuracy: 0.8866 - val_loss: 0.3162 - val_accuracy: 0.8946\n",
            "Epoch 18/30\n",
            "2838/2838 [==============================] - 58s 21ms/step - loss: 0.3260 - accuracy: 0.8896 - val_loss: 0.3058 - val_accuracy: 0.8972\n",
            "Epoch 19/30\n",
            "2838/2838 [==============================] - 59s 21ms/step - loss: 0.3164 - accuracy: 0.8931 - val_loss: 0.2967 - val_accuracy: 0.9019\n",
            "Epoch 20/30\n",
            "2838/2838 [==============================] - 58s 21ms/step - loss: 0.3091 - accuracy: 0.8950 - val_loss: 0.2892 - val_accuracy: 0.9035\n",
            "Epoch 21/30\n",
            "2838/2838 [==============================] - 62s 22ms/step - loss: 0.3012 - accuracy: 0.8979 - val_loss: 0.2822 - val_accuracy: 0.9059\n",
            "Epoch 22/30\n",
            "2838/2838 [==============================] - 62s 22ms/step - loss: 0.2938 - accuracy: 0.8998 - val_loss: 0.2755 - val_accuracy: 0.9070\n",
            "Epoch 23/30\n",
            "2838/2838 [==============================] - 58s 21ms/step - loss: 0.2868 - accuracy: 0.9025 - val_loss: 0.2706 - val_accuracy: 0.9078\n",
            "Epoch 24/30\n",
            "2838/2838 [==============================] - 58s 20ms/step - loss: 0.2809 - accuracy: 0.9048 - val_loss: 0.2622 - val_accuracy: 0.9131\n",
            "Epoch 25/30\n",
            "2838/2838 [==============================] - 62s 22ms/step - loss: 0.2747 - accuracy: 0.9063 - val_loss: 0.2563 - val_accuracy: 0.9145\n",
            "Epoch 26/30\n",
            "2838/2838 [==============================] - 59s 21ms/step - loss: 0.2691 - accuracy: 0.9086 - val_loss: 0.2511 - val_accuracy: 0.9167\n",
            "Epoch 27/30\n",
            "2838/2838 [==============================] - 62s 22ms/step - loss: 0.2642 - accuracy: 0.9097 - val_loss: 0.2467 - val_accuracy: 0.9172\n",
            "Epoch 28/30\n",
            "2838/2838 [==============================] - 62s 22ms/step - loss: 0.2596 - accuracy: 0.9109 - val_loss: 0.2412 - val_accuracy: 0.9207\n",
            "Epoch 29/30\n",
            "2838/2838 [==============================] - 62s 22ms/step - loss: 0.2552 - accuracy: 0.9124 - val_loss: 0.2372 - val_accuracy: 0.9196\n",
            "Epoch 30/30\n",
            "2838/2838 [==============================] - 59s 21ms/step - loss: 0.2505 - accuracy: 0.9140 - val_loss: 0.2320 - val_accuracy: 0.9228\n"
          ]
        }
      ]
    },
    {
      "cell_type": "code",
      "source": [
        "import matplotlib.pyplot as plt\n",
        "from sklearn.metrics import confusion_matrix\n",
        "from sklearn.metrics import classification_report\n",
        "from sklearn.metrics import accuracy_score\n",
        "\n",
        "def show_train_history(train_history,train,validation):\n",
        "    plt.plot(train_history.history.history[train])\n",
        "    plt.plot(train_history.history.history[validation])\n",
        "    plt.title('Train History')\n",
        "    plt.ylabel(train)\n",
        "    plt.xlabel('Epoch')\n",
        "    plt.legend(['train', 'validation'], loc='upper left')\n",
        "    plt.show()\n",
        "\n",
        "show_train_history(model,'accuracy','val_accuracy')\n",
        "show_train_history(model,'loss','val_loss') \n",
        "acc = model.history.history['accuracy']\n",
        "val_acc = model.history.history['val_accuracy']\n",
        "loss = model.history.history['loss']\n",
        "val_loss = model.history.history['val_loss']\n",
        "print(f\"Accuracy on training data is:- {acc[-1]*100} %\")\n",
        "print(f\"Loss {loss[-1]*100}\")\n",
        "print(f\"Accuracy on validation data is:- {val_acc[-1]*100} %\")\n",
        "print(f\"Loss {val_loss[-1]*100}\")"
      ],
      "metadata": {
        "colab": {
          "base_uri": "https://localhost:8080/",
          "height": 642
        },
        "id": "zlE1FIpohHxh",
        "outputId": "1b9b0949-6ff5-4825-c0b7-a5ef330cccf0"
      },
      "execution_count": null,
      "outputs": [
        {
          "output_type": "display_data",
          "data": {
            "text/plain": [
              "<Figure size 432x288 with 1 Axes>"
            ],
            "image/png": "[encoded data removed]"
          },
          "metadata": {
            "needs_background": "light"
          }
        },
        {
          "output_type": "display_data",
          "data": {
            "text/plain": [
              "<Figure size 432x288 with 1 Axes>"
            ],
            "image/png": "[encoded data removed]"
          },
          "metadata": {
            "needs_background": "light"
          }
        },
        {
          "output_type": "stream",
          "name": "stdout",
          "text": [
            "Accuracy on training data is:- 91.39757752418518 %\n",
            "Loss 25.05117654800415\n",
            "Accuracy on validation data is:- 92.27973818778992 %\n",
            "Loss 23.197968304157257\n"
          ]
        }
      ]
    },
    {
      "cell_type": "code",
      "source": [
        "pred6 = np.argmax(model.predict(X_test), axis =1)\n",
        "slabels6=np.argmax(y_test, axis=1)\n",
        "print(\"F1-score of LSTM CNN2Model:\",f1_score(slabels6,pred6, average='macro'))\n",
        "print(classification_report(slabels6,pred6))"
      ],
      "metadata": {
        "colab": {
          "base_uri": "https://localhost:8080/"
        },
        "id": "rvAagmNdhM1z",
        "outputId": "0607f1ea-0ff8-46d8-f006-1972db9c1b22"
      },
      "execution_count": null,
      "outputs": [
        {
          "output_type": "stream",
          "name": "stdout",
          "text": [
            "1419/1419 [==============================] - 6s 4ms/step\n",
            "F1-score of LSTM CNN2Model: 0.9040898694526407\n",
            "              precision    recall  f1-score   support\n",
            "\n",
            "           0       0.95      0.95      0.95     15658\n",
            "           1       0.91      0.95      0.93     13858\n",
            "           2       0.87      0.88      0.88      6208\n",
            "           3       0.93      0.88      0.91      6177\n",
            "           4       0.90      0.83      0.86      3499\n",
            "\n",
            "    accuracy                           0.92     45400\n",
            "   macro avg       0.91      0.90      0.90     45400\n",
            "weighted avg       0.92      0.92      0.92     45400\n",
            "\n"
          ]
        }
      ]
    },
    {
      "cell_type": "code",
      "source": [
        "#Confusion Matrix for GRU Layer Model:\n",
        "from sklearn.metrics import confusion_matrix\n",
        "cm = confusion_matrix(slabels6, pred6)\n",
        "cm"
      ],
      "metadata": {
        "colab": {
          "base_uri": "https://localhost:8080/"
        },
        "id": "CN4QGxKjIMWf",
        "outputId": "cd27e453-9de4-48ea-bc35-63b9b0d505ef"
      },
      "execution_count": null,
      "outputs": [
        {
          "output_type": "execute_result",
          "data": {
            "text/plain": [
              "array([[14828,   450,   190,    98,    92],\n",
              "       [  299, 13118,   247,   113,    81],\n",
              "       [  183,   330,  5469,   136,    90],\n",
              "       [  152,   272,   220,  5462,    71],\n",
              "       [  172,   215,   147,    67,  2898]])"
            ]
          },
          "metadata": {},
          "execution_count": 156
        }
      ]
    },
    {
      "cell_type": "code",
      "source": [
        "import seaborn as sns\n",
        "#Visualization of Confusion Matrix\n",
        "cm2 = confusion_matrix(slabels6, pred6,normalize=\"true\")\n",
        "sns.heatmap(cm2,annot=True)"
      ],
      "metadata": {
        "colab": {
          "base_uri": "https://localhost:8080/",
          "height": 282
        },
        "id": "qn4o4CAtIUWS",
        "outputId": "8645abb3-c9ef-4f6d-dd9b-e3567adc7e04"
      },
      "execution_count": null,
      "outputs": [
        {
          "output_type": "execute_result",
          "data": {
            "text/plain": [
              "<Axes: >"
            ]
          },
          "metadata": {},
          "execution_count": 157
        },
        {
          "output_type": "display_data",
          "data": {
            "text/plain": [
              "<Figure size 432x288 with 2 Axes>"
            ],
            "image/png": "[encoded data removed]"
          },
          "metadata": {
            "needs_background": "light"
          }
        }
      ]
    }
  ]
}